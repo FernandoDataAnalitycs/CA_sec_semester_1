{
 "cells": [
  {
   "cell_type": "markdown",
   "id": "2f181279",
   "metadata": {},
   "source": [
    "## Applying pyspark"
   ]
  },
  {
   "cell_type": "code",
   "execution_count": 5,
   "id": "3c8ae559",
   "metadata": {
    "scrolled": true
   },
   "outputs": [
    {
     "name": "stdout",
     "output_type": "stream",
     "text": [
      "Collecting pyspark\n",
      "  Downloading pyspark-3.5.1.tar.gz (317.0 MB)\n",
      "\u001b[2K     \u001b[90m━━━━━━━━━━━━━━━━━━━━━━━━━━━━━━━━━━━━━━\u001b[0m \u001b[32m317.0/317.0 MB\u001b[0m \u001b[31m22.5 MB/s\u001b[0m eta \u001b[36m0:00:00\u001b[0m00:01\u001b[0m00:01\u001b[0m\n",
      "\u001b[?25h  Preparing metadata (setup.py) ... \u001b[?25ldone\n",
      "\u001b[?25hCollecting py4j==0.10.9.7 (from pyspark)\n",
      "  Downloading py4j-0.10.9.7-py2.py3-none-any.whl (200 kB)\n",
      "\u001b[2K     \u001b[90m━━━━━━━━━━━━━━━━━━━━━━━━━━━━━━━━━━━━━━\u001b[0m \u001b[32m200.5/200.5 kB\u001b[0m \u001b[31m13.6 MB/s\u001b[0m eta \u001b[36m0:00:00\u001b[0m\n",
      "\u001b[?25hBuilding wheels for collected packages: pyspark\n",
      "  Building wheel for pyspark (setup.py) ... \u001b[?25ldone\n",
      "\u001b[?25h  Created wheel for pyspark: filename=pyspark-3.5.1-py2.py3-none-any.whl size=317488496 sha256=ff2fde03607a49e9ef803fe31d8d4a82a5b967d10ba5f72afd00db76f48ebf9f\n",
      "  Stored in directory: /Users/fernandoleniz/Library/Caches/pip/wheels/95/13/41/f7f135ee114175605fb4f0a89e7389f3742aa6c1e1a5bcb657\n",
      "Successfully built pyspark\n",
      "Installing collected packages: py4j, pyspark\n",
      "Successfully installed py4j-0.10.9.7 pyspark-3.5.1\n"
     ]
    }
   ],
   "source": [
    "# install pyspark\n",
    "#!pip install pyspark"
   ]
  },
  {
   "cell_type": "code",
   "execution_count": 1,
   "id": "eede8ec2",
   "metadata": {},
   "outputs": [
    {
     "data": {
      "text/html": [
       "\n",
       "        <div>\n",
       "            <p><b>SparkContext</b></p>\n",
       "\n",
       "            <p><a href=\"http://192.168.64.2:4042\">Spark UI</a></p>\n",
       "\n",
       "            <dl>\n",
       "              <dt>Version</dt>\n",
       "                <dd><code>v3.4.2</code></dd>\n",
       "              <dt>Master</dt>\n",
       "                <dd><code>local[*]</code></dd>\n",
       "              <dt>AppName</dt>\n",
       "                <dd><code>PySparkShell</code></dd>\n",
       "            </dl>\n",
       "        </div>\n",
       "        "
      ],
      "text/plain": [
       "<SparkContext master=local[*] appName=PySparkShell>"
      ]
     },
     "execution_count": 1,
     "metadata": {},
     "output_type": "execute_result"
    }
   ],
   "source": [
    "sc\n"
   ]
  },
  {
   "cell_type": "code",
   "execution_count": 2,
   "id": "d776396a",
   "metadata": {},
   "outputs": [],
   "source": [
    "import warnings\n",
    "warnings.filterwarnings(\"ignore\")"
   ]
  },
  {
   "cell_type": "markdown",
   "id": "fb5c1e07",
   "metadata": {},
   "source": [
    "Comands to start using hadoop: \n",
    "\n",
    "$start-dfs.sh\n",
    "$start-yarn.sh\n",
    "\n",
    "command to stop the process:\n",
    "\n",
    "$stop-dfs.sh\n",
    "$stop-yarn.sh"
   ]
  },
  {
   "cell_type": "code",
   "execution_count": 1,
   "id": "047507b4",
   "metadata": {},
   "outputs": [],
   "source": [
    "default_fs = spark._jsc.hadoopConfiguration().get(\"fs.defaultFS\")"
   ]
  },
  {
   "cell_type": "code",
   "execution_count": 2,
   "id": "2a76a548",
   "metadata": {},
   "outputs": [
    {
     "name": "stdout",
     "output_type": "stream",
     "text": [
      "default_fs is:  hdfs://localhost:9000\n"
     ]
    }
   ],
   "source": [
    "print(\"default_fs is: \", default_fs)"
   ]
  },
  {
   "cell_type": "code",
   "execution_count": 3,
   "id": "d724c60e",
   "metadata": {
    "scrolled": true
   },
   "outputs": [
    {
     "name": "stderr",
     "output_type": "stream",
     "text": [
      "24/03/22 21:02:57 WARN SparkSession: Using an existing Spark session; only runtime SQL configurations will take effect.\n",
      "                                                                                \r"
     ]
    }
   ],
   "source": [
    "from pyspark.sql import SparkSession\n",
    "\n",
    "# Create a SparkSession\n",
    "spark = SparkSession.builder \\\n",
    "    .appName(\"Read CSV from HDFS\") \\\n",
    "    .getOrCreate()\n",
    "\n",
    "# Relative Path in HDFS\n",
    "# csv_file_path = \"/first_CA_second_sem/TSM10.20240320205332.csv\"\n",
    "\n",
    "csv_file_path = \"hdfs://localhost:9000/first_CA_second_sem/TSM10.20240320205332.csv\"\n",
    "\n",
    "# Read the CSV file into a DataFrame\n",
    "df = spark.read.csv(csv_file_path, header=True, inferSchema=True)\n"
   ]
  },
  {
   "cell_type": "code",
   "execution_count": 4,
   "id": "19b6740e",
   "metadata": {},
   "outputs": [
    {
     "name": "stdout",
     "output_type": "stream",
     "text": [
      "+---------+----------------+---------+------------+------------+--------------------+------------+---------+-------------+------+\n",
      "|STATISTIC| Statistic Label|TLIST(M1)|       Month|C02487V03011|     Commodity group|C03409V04104|  Country|         UNIT| VALUE|\n",
      "+---------+----------------+---------+------------+------------+--------------------+------------+---------+-------------+------+\n",
      "| TSM10C01|Value of Imports|   201501|2015 January|         101|Total merchandise...|          AT|  Austria|Euro Thousand| 15321|\n",
      "| TSM10C01|Value of Imports|   201501|2015 January|         101|Total merchandise...|          AU|Australia|Euro Thousand|  5064|\n",
      "| TSM10C01|Value of Imports|   201501|2015 January|         101|Total merchandise...|          BE|  Belgium|Euro Thousand|109964|\n",
      "| TSM10C01|Value of Imports|   201501|2015 January|         101|Total merchandise...|          BG| Bulgaria|Euro Thousand| 33988|\n",
      "| TSM10C01|Value of Imports|   201501|2015 January|         101|Total merchandise...|          BR|   Brazil|Euro Thousand| 12169|\n",
      "+---------+----------------+---------+------------+------------+--------------------+------------+---------+-------------+------+\n",
      "only showing top 5 rows\n",
      "\n"
     ]
    }
   ],
   "source": [
    "# Show the DataFrame\n",
    "df.show(5)"
   ]
  },
  {
   "cell_type": "code",
   "execution_count": 7,
   "id": "095f0c5c",
   "metadata": {
    "scrolled": true
   },
   "outputs": [
    {
     "name": "stdout",
     "output_type": "stream",
     "text": [
      "root\n",
      " |-- STATISTIC: string (nullable = true)\n",
      " |-- Statistic Label: string (nullable = true)\n",
      " |-- TLIST(M1): integer (nullable = true)\n",
      " |-- Month: string (nullable = true)\n",
      " |-- C02487V03011: integer (nullable = true)\n",
      " |-- Commodity group: string (nullable = true)\n",
      " |-- C03409V04104: string (nullable = true)\n",
      " |-- Country: string (nullable = true)\n",
      " |-- UNIT: string (nullable = true)\n",
      " |-- VALUE: integer (nullable = true)\n",
      "\n"
     ]
    }
   ],
   "source": [
    "df.printSchema()"
   ]
  },
  {
   "cell_type": "code",
   "execution_count": 9,
   "id": "3519b887",
   "metadata": {},
   "outputs": [
    {
     "data": {
      "text/plain": [
       "['STATISTIC',\n",
       " 'Statistic Label',\n",
       " 'TLIST(M1)',\n",
       " 'Month',\n",
       " 'C02487V03011',\n",
       " 'Commodity group',\n",
       " 'C03409V04104',\n",
       " 'Country',\n",
       " 'UNIT',\n",
       " 'VALUE']"
      ]
     },
     "execution_count": 9,
     "metadata": {},
     "output_type": "execute_result"
    }
   ],
   "source": [
    "df.columns"
   ]
  },
  {
   "cell_type": "code",
   "execution_count": 8,
   "id": "034cee22",
   "metadata": {},
   "outputs": [
    {
     "name": "stderr",
     "output_type": "stream",
     "text": [
      "24/03/21 11:31:58 WARN package: Truncated the string representation of a plan since it was too large. This behavior can be adjusted by setting 'spark.sql.debug.maxToStringFields'.\n",
      "[Stage 6:>                                                          (0 + 2) / 2]\r"
     ]
    },
    {
     "name": "stdout",
     "output_type": "stream",
     "text": [
      "+-------+---------+----------------+------------------+------------+-----------------+--------------------+------------+---------+-------------+-----------------+\n",
      "|summary|STATISTIC| Statistic Label|         TLIST(M1)|       Month|     C02487V03011|     Commodity group|C03409V04104|  Country|         UNIT|            VALUE|\n",
      "+-------+---------+----------------+------------------+------------+-----------------+--------------------+------------+---------+-------------+-----------------+\n",
      "|  count|   705012|          705012|            705012|      705012|           705012|              705012|      705012|   705012|       705012|           496279|\n",
      "|   mean|     null|            null| 201911.0366972477|        null|5051.712121212121|                null|        null|     null|         null|9231.518990326007|\n",
      "| stddev|     null|            null|261.32310506497976|        null|2875.646182107541|                null|        null|     null|         null|91717.59880938345|\n",
      "|    min| TSM10C01|Value of Exports|            201501|  2015 April|               10|Animal and vegeta...|          AT|Australia|Euro Thousand|                0|\n",
      "|    max| TSM10C02|Value of Imports|            202401|2024 January|             9008|Vegetables and fr...|    ZZWORX27|      USA|Euro Thousand|          7400502|\n",
      "+-------+---------+----------------+------------------+------------+-----------------+--------------------+------------+---------+-------------+-----------------+\n",
      "\n"
     ]
    },
    {
     "name": "stderr",
     "output_type": "stream",
     "text": [
      "\r",
      "                                                                                \r"
     ]
    }
   ],
   "source": [
    "# Get statistical summary of the DataFrame\n",
    "df.describe().show()\n"
   ]
  },
  {
   "cell_type": "code",
   "execution_count": 10,
   "id": "000592ad",
   "metadata": {},
   "outputs": [],
   "source": [
    "# Stop the SparkSession\n",
    "spark.stop()"
   ]
  },
  {
   "cell_type": "code",
   "execution_count": null,
   "id": "decce717",
   "metadata": {},
   "outputs": [],
   "source": []
  }
 ],
 "metadata": {
  "kernelspec": {
   "display_name": "Python 3 (ipykernel)",
   "language": "python",
   "name": "python3"
  },
  "language_info": {
   "codemirror_mode": {
    "name": "ipython",
    "version": 3
   },
   "file_extension": ".py",
   "mimetype": "text/x-python",
   "name": "python",
   "nbconvert_exporter": "python",
   "pygments_lexer": "ipython3",
   "version": "3.11.6"
  }
 },
 "nbformat": 4,
 "nbformat_minor": 5
}
