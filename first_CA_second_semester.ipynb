{
 "cells": [
  {
   "cell_type": "markdown",
   "id": "2f181279",
   "metadata": {},
   "source": [
    "## Applying pyspark"
   ]
  },
  {
   "cell_type": "code",
   "execution_count": 1,
   "id": "3c8ae559",
   "metadata": {
    "scrolled": true
   },
   "outputs": [],
   "source": [
    "# install pyspark\n",
    "#!pip install pyspark"
   ]
  },
  {
   "cell_type": "code",
   "execution_count": 2,
   "id": "93f0926f",
   "metadata": {},
   "outputs": [
    {
     "name": "stdout",
     "output_type": "stream",
     "text": [
      "Python Version: 3.11.6 (main, Oct  8 2023, 05:06:43) [GCC 13.2.0]\n",
      "Virtual Environment Path: /usr\n"
     ]
    }
   ],
   "source": [
    "import sys\n",
    "\n",
    "print(\"Python Version:\", sys.version)\n",
    "print(\"Virtual Environment Path:\", sys.prefix)"
   ]
  },
  {
   "cell_type": "code",
   "execution_count": 3,
   "id": "eede8ec2",
   "metadata": {},
   "outputs": [
    {
     "data": {
      "text/html": [
       "\n",
       "        <div>\n",
       "            <p><b>SparkContext</b></p>\n",
       "\n",
       "            <p><a href=\"http://192.168.64.2:4040\">Spark UI</a></p>\n",
       "\n",
       "            <dl>\n",
       "              <dt>Version</dt>\n",
       "                <dd><code>v3.4.2</code></dd>\n",
       "              <dt>Master</dt>\n",
       "                <dd><code>local[*]</code></dd>\n",
       "              <dt>AppName</dt>\n",
       "                <dd><code>PySparkShell</code></dd>\n",
       "            </dl>\n",
       "        </div>\n",
       "        "
      ],
      "text/plain": [
       "<SparkContext master=local[*] appName=PySparkShell>"
      ]
     },
     "execution_count": 3,
     "metadata": {},
     "output_type": "execute_result"
    }
   ],
   "source": [
    "sc"
   ]
  },
  {
   "cell_type": "code",
   "execution_count": 4,
   "id": "d776396a",
   "metadata": {},
   "outputs": [],
   "source": [
    "import warnings\n",
    "warnings.filterwarnings(\"ignore\")"
   ]
  },
  {
   "cell_type": "markdown",
   "id": "0a0c1328",
   "metadata": {},
   "source": [
    " <h3>Comands to start using hadoop:</h3>\n",
    "\n",
    "\n",
    "<ul style=\"list-style-type: none;\">\n",
    "  <li>start-dfs.sh</li>\n",
    "  <li>start-yarn.sh</li>\n",
    "</ul>\n",
    "\n",
    " <h3>command to stop the process:</h3>\n",
    "\n",
    "<ul style=\"list-style-type: none;\">\n",
    "  <li>stop-dfs.sh </li>\n",
    "  <li>stop-yarn.sh</li>\n",
    "</ul>"
   ]
  },
  {
   "cell_type": "code",
   "execution_count": 5,
   "id": "d724c60e",
   "metadata": {
    "scrolled": true
   },
   "outputs": [
    {
     "name": "stderr",
     "output_type": "stream",
     "text": [
      "24/03/26 08:22:21 WARN SparkSession: Using an existing Spark session; only runtime SQL configurations will take effect.\n",
      "                                                                                \r"
     ]
    }
   ],
   "source": [
    "from pyspark.sql import SparkSession\n",
    "\n",
    "# Create a SparkSession\n",
    "spark = SparkSession.builder \\\n",
    "    .appName(\"Read CSV from HDFS\") \\\n",
    "    .getOrCreate()\n",
    "\n",
    "# Relative Path in HDFS\n",
    "# csv_file_path = \"/first_CA_second_sem/TSM10.20240320205332.csv\"\n",
    "\n",
    "csv_file_path = \"hdfs://localhost:9000/first_CA_second_sem/TSM10.20240320205332.csv\"\n",
    "\n",
    "# Read the CSV file into a DataFrame\n",
    "df = spark.read.csv(csv_file_path, header=True, inferSchema=True)\n"
   ]
  },
  {
   "cell_type": "code",
   "execution_count": 6,
   "id": "dd154c31",
   "metadata": {},
   "outputs": [],
   "source": [
    "default_fs = spark._jsc.hadoopConfiguration().get(\"fs.defaultFS\")"
   ]
  },
  {
   "cell_type": "code",
   "execution_count": 7,
   "id": "b92fc509",
   "metadata": {},
   "outputs": [
    {
     "name": "stdout",
     "output_type": "stream",
     "text": [
      "default_fs path is:  hdfs://localhost:9000\n"
     ]
    }
   ],
   "source": [
    "print(\"default_fs path is: \", default_fs)"
   ]
  },
  {
   "cell_type": "code",
   "execution_count": 8,
   "id": "19b6740e",
   "metadata": {
    "scrolled": true
   },
   "outputs": [
    {
     "name": "stdout",
     "output_type": "stream",
     "text": [
      "+---------+----------------+---------+------------+------------+--------------------+------------+---------+-------------+------+\n",
      "|STATISTIC| Statistic Label|TLIST(M1)|       Month|C02487V03011|     Commodity group|C03409V04104|  Country|         UNIT| VALUE|\n",
      "+---------+----------------+---------+------------+------------+--------------------+------------+---------+-------------+------+\n",
      "| TSM10C01|Value of Imports|   201501|2015 January|         101|Total merchandise...|          AT|  Austria|Euro Thousand| 15321|\n",
      "| TSM10C01|Value of Imports|   201501|2015 January|         101|Total merchandise...|          AU|Australia|Euro Thousand|  5064|\n",
      "| TSM10C01|Value of Imports|   201501|2015 January|         101|Total merchandise...|          BE|  Belgium|Euro Thousand|109964|\n",
      "| TSM10C01|Value of Imports|   201501|2015 January|         101|Total merchandise...|          BG| Bulgaria|Euro Thousand| 33988|\n",
      "| TSM10C01|Value of Imports|   201501|2015 January|         101|Total merchandise...|          BR|   Brazil|Euro Thousand| 12169|\n",
      "+---------+----------------+---------+------------+------------+--------------------+------------+---------+-------------+------+\n",
      "only showing top 5 rows\n",
      "\n"
     ]
    }
   ],
   "source": [
    "# Show the DataFrame\n",
    "df.show(5)"
   ]
  },
  {
   "cell_type": "code",
   "execution_count": 9,
   "id": "abf10485",
   "metadata": {},
   "outputs": [
    {
     "data": {
      "text/plain": [
       "pyspark.sql.dataframe.DataFrame"
      ]
     },
     "execution_count": 9,
     "metadata": {},
     "output_type": "execute_result"
    }
   ],
   "source": [
    "type(df)"
   ]
  },
  {
   "cell_type": "code",
   "execution_count": 10,
   "id": "095f0c5c",
   "metadata": {
    "scrolled": true
   },
   "outputs": [
    {
     "name": "stdout",
     "output_type": "stream",
     "text": [
      "root\n",
      " |-- STATISTIC: string (nullable = true)\n",
      " |-- Statistic Label: string (nullable = true)\n",
      " |-- TLIST(M1): integer (nullable = true)\n",
      " |-- Month: string (nullable = true)\n",
      " |-- C02487V03011: integer (nullable = true)\n",
      " |-- Commodity group: string (nullable = true)\n",
      " |-- C03409V04104: string (nullable = true)\n",
      " |-- Country: string (nullable = true)\n",
      " |-- UNIT: string (nullable = true)\n",
      " |-- VALUE: integer (nullable = true)\n",
      "\n"
     ]
    }
   ],
   "source": [
    "df.printSchema()"
   ]
  },
  {
   "cell_type": "code",
   "execution_count": 11,
   "id": "3519b887",
   "metadata": {},
   "outputs": [
    {
     "data": {
      "text/plain": [
       "['STATISTIC',\n",
       " 'Statistic Label',\n",
       " 'TLIST(M1)',\n",
       " 'Month',\n",
       " 'C02487V03011',\n",
       " 'Commodity group',\n",
       " 'C03409V04104',\n",
       " 'Country',\n",
       " 'UNIT',\n",
       " 'VALUE']"
      ]
     },
     "execution_count": 11,
     "metadata": {},
     "output_type": "execute_result"
    }
   ],
   "source": [
    "df.columns"
   ]
  },
  {
   "cell_type": "code",
   "execution_count": 12,
   "id": "034cee22",
   "metadata": {},
   "outputs": [
    {
     "name": "stderr",
     "output_type": "stream",
     "text": [
      "24/03/26 08:22:32 WARN package: Truncated the string representation of a plan since it was too large. This behavior can be adjusted by setting 'spark.sql.debug.maxToStringFields'.\n",
      "[Stage 3:=============================>                             (1 + 1) / 2]\r"
     ]
    },
    {
     "name": "stdout",
     "output_type": "stream",
     "text": [
      "+-------+---------+----------------+------------------+------------+-----------------+--------------------+------------+---------+-------------+-----------------+\n",
      "|summary|STATISTIC| Statistic Label|         TLIST(M1)|       Month|     C02487V03011|     Commodity group|C03409V04104|  Country|         UNIT|            VALUE|\n",
      "+-------+---------+----------------+------------------+------------+-----------------+--------------------+------------+---------+-------------+-----------------+\n",
      "|  count|   705012|          705012|            705012|      705012|           705012|              705012|      705012|   705012|       705012|           496279|\n",
      "|   mean|     null|            null| 201911.0366972477|        null|5051.712121212121|                null|        null|     null|         null|9231.518990326007|\n",
      "| stddev|     null|            null|261.32310506497976|        null|2875.646182107541|                null|        null|     null|         null|91717.59880938345|\n",
      "|    min| TSM10C01|Value of Exports|            201501|  2015 April|               10|Animal and vegeta...|          AT|Australia|Euro Thousand|                0|\n",
      "|    max| TSM10C02|Value of Imports|            202401|2024 January|             9008|Vegetables and fr...|    ZZWORX27|      USA|Euro Thousand|          7400502|\n",
      "+-------+---------+----------------+------------------+------------+-----------------+--------------------+------------+---------+-------------+-----------------+\n",
      "\n"
     ]
    },
    {
     "name": "stderr",
     "output_type": "stream",
     "text": [
      "\r",
      "                                                                                \r"
     ]
    }
   ],
   "source": [
    "# Get statistical summary of the DataFrame\n",
    "df.describe().show(5)\n"
   ]
  },
  {
   "cell_type": "code",
   "execution_count": 13,
   "id": "1e721ba8",
   "metadata": {},
   "outputs": [],
   "source": [
    "# selecting columns with spark method\n",
    "selected_df = df.select('TLIST(M1)', \"Commodity group\", \"VALUE\")\n"
   ]
  },
  {
   "cell_type": "code",
   "execution_count": 14,
   "id": "e89b748c",
   "metadata": {},
   "outputs": [
    {
     "name": "stdout",
     "output_type": "stream",
     "text": [
      "+---------+--------------------+------+\n",
      "|TLIST(M1)|     Commodity group| VALUE|\n",
      "+---------+--------------------+------+\n",
      "|   201501|Total merchandise...| 15321|\n",
      "|   201501|Total merchandise...|  5064|\n",
      "|   201501|Total merchandise...|109964|\n",
      "|   201501|Total merchandise...| 33988|\n",
      "|   201501|Total merchandise...| 12169|\n",
      "+---------+--------------------+------+\n",
      "only showing top 5 rows\n",
      "\n"
     ]
    }
   ],
   "source": [
    "selected_df.show(5)\n"
   ]
  },
  {
   "cell_type": "code",
   "execution_count": 15,
   "id": "cbf30e89",
   "metadata": {},
   "outputs": [],
   "source": [
    "# Create a temporary view using the DataFrame\n",
    "df.createOrReplaceTempView(\"commodity_data\")"
   ]
  },
  {
   "cell_type": "code",
   "execution_count": 16,
   "id": "ae330658",
   "metadata": {},
   "outputs": [
    {
     "name": "stdout",
     "output_type": "stream",
     "text": [
      "table names:  [Table(name='commodity_data', catalog=None, namespace=[], description=None, tableType='TEMPORARY', isTemporary=True)]\n"
     ]
    }
   ],
   "source": [
    "# Getting a list of table names\n",
    "table_names = spark.catalog.listTables()\n",
    "\n",
    "print(\"table names: \", table_names)"
   ]
  },
  {
   "cell_type": "code",
   "execution_count": 17,
   "id": "f5cac95b",
   "metadata": {
    "scrolled": true
   },
   "outputs": [
    {
     "name": "stdout",
     "output_type": "stream",
     "text": [
      "+---------+--------------------+-----+\n",
      "|TLIST(M1)|     Commodity group|VALUE|\n",
      "+---------+--------------------+-----+\n",
      "|   201501|Miscellaneous man...| 2020|\n",
      "|   201502|Miscellaneous man...| 2522|\n",
      "|   201503|Miscellaneous man...| 2978|\n",
      "|   201504|Miscellaneous man...| 2842|\n",
      "|   201505|Miscellaneous man...| 1978|\n",
      "+---------+--------------------+-----+\n",
      "only showing top 5 rows\n",
      "\n"
     ]
    }
   ],
   "source": [
    "# Write and execute the SQL query\n",
    "sql_query = \"\"\"\n",
    "SELECT `TLIST(M1)`, `Commodity group`, VALUE\n",
    "FROM commodity_data\n",
    "WHERE `Commodity group` = 'Miscellaneous manufactured articles, n.e.s. (89)'\n",
    "AND Country = 'Austria'\n",
    "\"\"\"\n",
    "\n",
    "result_df = spark.sql(sql_query)\n",
    "\n",
    "# Show the last 5 rows of the result DataFrame\n",
    "result_df.show(5)\n"
   ]
  },
  {
   "cell_type": "code",
   "execution_count": 18,
   "id": "a8f31503",
   "metadata": {},
   "outputs": [
    {
     "name": "stderr",
     "output_type": "stream",
     "text": [
      "\r",
      "[Stage 10:>                                                         (0 + 2) / 2]\r"
     ]
    },
    {
     "name": "stdout",
     "output_type": "stream",
     "text": [
      "Total rows in VALUE column: 218\n"
     ]
    },
    {
     "name": "stderr",
     "output_type": "stream",
     "text": [
      "\r",
      "                                                                                \r"
     ]
    }
   ],
   "source": [
    "total_rows = result_df.count()\n",
    "print(\"Total rows in VALUE column:\", total_rows)"
   ]
  },
  {
   "cell_type": "code",
   "execution_count": 19,
   "id": "ce9f0e7b",
   "metadata": {},
   "outputs": [
    {
     "name": "stderr",
     "output_type": "stream",
     "text": [
      "\r",
      "[Stage 13:>                                                         (0 + 2) / 2]\r"
     ]
    },
    {
     "name": "stdout",
     "output_type": "stream",
     "text": [
      "There are no empty values in the 'VALUE' column.\n"
     ]
    },
    {
     "name": "stderr",
     "output_type": "stream",
     "text": [
      "\r",
      "[Stage 13:=============================>                            (1 + 1) / 2]\r",
      "\r",
      "                                                                                \r"
     ]
    }
   ],
   "source": [
    "# Check for null values in the DataFrame\n",
    "null_count = result_df.filter(result_df.VALUE.isNull()).count()\n",
    "\n",
    "if null_count > 0:\n",
    "    print(\"There are empty values in the 'VALUE' column.\")\n",
    "else:\n",
    "    print(\"There are no empty values in the 'VALUE' column.\")\n"
   ]
  },
  {
   "cell_type": "code",
   "execution_count": 20,
   "id": "1a331028",
   "metadata": {},
   "outputs": [],
   "source": [
    "#!pip install tensorflow\n",
    "# As tensorflow it got some troubles to installing because of the \"error: externally-managed-environment\"\n",
    "#another solution is the use of pytorch library"
   ]
  },
  {
   "cell_type": "code",
   "execution_count": 21,
   "id": "a0517855",
   "metadata": {},
   "outputs": [],
   "source": [
    "# check installed libraries\n",
    "#!pip list"
   ]
  },
  {
   "cell_type": "code",
   "execution_count": 22,
   "id": "0cc42ed0",
   "metadata": {},
   "outputs": [],
   "source": [
    "#!pip install torch"
   ]
  },
  {
   "cell_type": "code",
   "execution_count": 23,
   "id": "28c49f39",
   "metadata": {},
   "outputs": [
    {
     "name": "stdout",
     "output_type": "stream",
     "text": [
      "+---------+--------------------+-----+\n",
      "|TLIST(M1)|     Commodity group|VALUE|\n",
      "+---------+--------------------+-----+\n",
      "|   201501|Miscellaneous man...| 2020|\n",
      "|   201502|Miscellaneous man...| 2522|\n",
      "|   201503|Miscellaneous man...| 2978|\n",
      "|   201504|Miscellaneous man...| 2842|\n",
      "|   201505|Miscellaneous man...| 1978|\n",
      "+---------+--------------------+-----+\n",
      "only showing top 5 rows\n",
      "\n"
     ]
    }
   ],
   "source": [
    "# Drop empty values in the \"VALUE\" column\n",
    "dropped_df = result_df.dropna(subset=['VALUE'])\n",
    "\n",
    "# Show the last 5 rows of the result DataFrame\n",
    "dropped_df.show(5)\n"
   ]
  },
  {
   "cell_type": "code",
   "execution_count": 24,
   "id": "acbd4c1e",
   "metadata": {},
   "outputs": [
    {
     "name": "stderr",
     "output_type": "stream",
     "text": [
      "[Stage 17:=============================>                            (1 + 1) / 2]\r"
     ]
    },
    {
     "data": {
      "text/plain": [
       "218"
      ]
     },
     "execution_count": 24,
     "metadata": {},
     "output_type": "execute_result"
    },
    {
     "name": "stderr",
     "output_type": "stream",
     "text": [
      "\r",
      "                                                                                \r"
     ]
    }
   ],
   "source": [
    "result_df.count()"
   ]
  },
  {
   "cell_type": "code",
   "execution_count": 25,
   "id": "388d13e0",
   "metadata": {},
   "outputs": [
    {
     "name": "stderr",
     "output_type": "stream",
     "text": [
      "                                                                                \r"
     ]
    },
    {
     "data": {
      "text/plain": [
       "218"
      ]
     },
     "execution_count": 25,
     "metadata": {},
     "output_type": "execute_result"
    }
   ],
   "source": [
    "result_df.count()"
   ]
  },
  {
   "cell_type": "code",
   "execution_count": 26,
   "id": "9cf0280d",
   "metadata": {},
   "outputs": [],
   "source": [
    "# Import necessary libraries\n",
    "import numpy as np\n",
    "import torch\n",
    "import torch.nn as nn\n",
    "import torch.optim as optim\n",
    "from torch.utils.data import Dataset, DataLoader\n",
    "from sklearn.preprocessing import MinMaxScaler\n",
    "from pyspark.sql import SparkSession\n",
    "from pyspark.ml.feature import VectorAssembler\n",
    "\n",
    "\n",
    "# Vector Assembler to convert features to a single vector column\n",
    "vecAssembler = VectorAssembler(inputCols=[\"VALUE\"], outputCol=\"features\")\n",
    "df_new = vecAssembler.transform(result_df).select(\"features\")"
   ]
  },
  {
   "cell_type": "code",
   "execution_count": 27,
   "id": "ae135db2",
   "metadata": {},
   "outputs": [
    {
     "name": "stdout",
     "output_type": "stream",
     "text": [
      "DataFrame[features: vector]\n"
     ]
    }
   ],
   "source": [
    "print(df_new)"
   ]
  },
  {
   "cell_type": "code",
   "execution_count": 28,
   "id": "688cd409",
   "metadata": {},
   "outputs": [
    {
     "name": "stderr",
     "output_type": "stream",
     "text": [
      "                                                                                \r"
     ]
    }
   ],
   "source": [
    "# Convert Spark DataFrame to RDD and then to NumPy array\n",
    "data_array = np.array(df_new.rdd.map(lambda x: x.features[0]).collect())\n",
    "\n",
    "# Preprocess the data\n",
    "scaler = MinMaxScaler(feature_range=(0, 1))\n",
    "scaled_data = scaler.fit_transform(data_array.reshape(-1, 1))"
   ]
  },
  {
   "cell_type": "code",
   "execution_count": 29,
   "id": "6cb18f37",
   "metadata": {},
   "outputs": [],
   "source": [
    "# Define a function to create sequences for input/output\n",
    "def create_sequences(data, seq_length):\n",
    "    X, y = [], []\n",
    "    for i in range(len(data) - seq_length):\n",
    "        X.append(data[i:i+seq_length])\n",
    "        y.append(data[i+seq_length])\n",
    "    return np.array(X), np.array(y)"
   ]
  },
  {
   "cell_type": "code",
   "execution_count": 30,
   "id": "f39d5398",
   "metadata": {},
   "outputs": [],
   "source": [
    "# Define sequence length and split data into training and testing sets\n",
    "sequence_length = 10\n",
    "train_size = int(len(scaled_data) * 0.8)\n",
    "test_size = len(scaled_data) - train_size\n",
    "train_data, test_data = scaled_data[0:train_size], scaled_data[train_size:len(scaled_data)]"
   ]
  },
  {
   "cell_type": "code",
   "execution_count": 31,
   "id": "0e6154bd",
   "metadata": {},
   "outputs": [],
   "source": [
    "# Create sequences for training and testing sets\n",
    "X_train, y_train = create_sequences(train_data, sequence_length)\n",
    "X_test, y_test = create_sequences(test_data, sequence_length)"
   ]
  },
  {
   "cell_type": "code",
   "execution_count": 32,
   "id": "00b06d34",
   "metadata": {},
   "outputs": [],
   "source": [
    "# Convert data to PyTorch tensors\n",
    "X_train = torch.Tensor(X_train).unsqueeze(2)\n",
    "y_train = torch.Tensor(y_train)\n",
    "X_test = torch.Tensor(X_test).unsqueeze(2)\n",
    "y_test = torch.Tensor(y_test)"
   ]
  },
  {
   "cell_type": "code",
   "execution_count": 33,
   "id": "768e013f",
   "metadata": {},
   "outputs": [],
   "source": [
    "# Define the LSTM model\n",
    "class LSTM(nn.Module):\n",
    "    def __init__(self, input_size=1, hidden_layer_size=100, output_size=1):\n",
    "        super().__init__()\n",
    "        self.hidden_layer_size = hidden_layer_size\n",
    "        self.lstm = nn.LSTM(input_size, hidden_layer_size)\n",
    "        self.linear = nn.Linear(hidden_layer_size, output_size)\n",
    "        self.hidden_cell = (torch.zeros(1,1,self.hidden_layer_size),\n",
    "                            torch.zeros(1,1,self.hidden_layer_size))\n",
    "\n",
    "    def forward(self, input_seq):\n",
    "        lstm_out, self.hidden_cell = self.lstm(input_seq.view(len(input_seq), 1, -1), self.hidden_cell)\n",
    "        predictions = self.linear(lstm_out.view(len(input_seq), -1))\n",
    "        return predictions[-1]"
   ]
  },
  {
   "cell_type": "code",
   "execution_count": 34,
   "id": "b3043b5c",
   "metadata": {},
   "outputs": [],
   "source": [
    "# Instantiate the model, define loss function and optimizer\n",
    "model = LSTM()\n",
    "loss_function = nn.MSELoss()\n",
    "optimizer = torch.optim.Adam(model.parameters(), lr=0.001)\n"
   ]
  },
  {
   "cell_type": "code",
   "execution_count": 35,
   "id": "560b803c",
   "metadata": {},
   "outputs": [
    {
     "name": "stdout",
     "output_type": "stream",
     "text": [
      "Epoch:   0 loss: 0.00441951\n",
      "Epoch:  25 loss: 0.00135869\n",
      "Epoch:  50 loss: 0.00116209\n",
      "Epoch:  75 loss: 0.00111984\n",
      "Epoch: 100 loss: 0.00044867\n",
      "Epoch: 125 loss: 0.00379041\n"
     ]
    }
   ],
   "source": [
    "# Train the model\n",
    "epochs = 150\n",
    "for i in range(epochs):\n",
    "    for seq, labels in zip(X_train, y_train):\n",
    "        optimizer.zero_grad()\n",
    "        model.hidden_cell = (torch.zeros(1, 1, model.hidden_layer_size),\n",
    "                        torch.zeros(1, 1, model.hidden_layer_size))\n",
    "\n",
    "        y_pred = model(seq)\n",
    "\n",
    "        single_loss = loss_function(y_pred, labels)\n",
    "        single_loss.backward()\n",
    "        optimizer.step()\n",
    "\n",
    "    if i%25 == 0:\n",
    "        print(f'Epoch: {i:3} loss: {single_loss.item():10.8f}')\n"
   ]
  },
  {
   "cell_type": "code",
   "execution_count": 36,
   "id": "01587552",
   "metadata": {},
   "outputs": [
    {
     "name": "stdout",
     "output_type": "stream",
     "text": [
      "Average Test Loss: 0.04081734\n"
     ]
    }
   ],
   "source": [
    "# Test the model\n",
    "test_losses = []\n",
    "with torch.no_grad():\n",
    "    for seq, labels in zip(X_test, y_test):\n",
    "        y_pred = model(seq)\n",
    "        test_loss = loss_function(y_pred, labels)\n",
    "        test_losses.append(test_loss.item())\n",
    "\n",
    "print(f'Average Test Loss: {np.mean(test_losses):10.8f}')\n"
   ]
  },
  {
   "cell_type": "code",
   "execution_count": 37,
   "id": "a46d28e9",
   "metadata": {},
   "outputs": [],
   "source": [
    "# Make predictions\n",
    "predictions = []\n",
    "with torch.no_grad():\n",
    "    for seq in X_test:\n",
    "        predictions.append(model(seq).item())\n"
   ]
  },
  {
   "cell_type": "code",
   "execution_count": 38,
   "id": "16e6f62a",
   "metadata": {},
   "outputs": [],
   "source": [
    "# Inverse transform the predictions\n",
    "predicted_values = scaler.inverse_transform(np.array(predictions).reshape(-1, 1))"
   ]
  },
  {
   "cell_type": "code",
   "execution_count": 39,
   "id": "c59b26e8",
   "metadata": {
    "scrolled": false
   },
   "outputs": [
    {
     "data": {
      "image/png": "[encoded data removed]",
      "text/plain": [
       "<Figure size 1000x600 with 1 Axes>"
      ]
     },
     "metadata": {},
     "output_type": "display_data"
    }
   ],
   "source": [
    "# Plot the results\n",
    "import matplotlib.pyplot as plt\n",
    "\n",
    "plt.figure(figsize=(10, 6))\n",
    "plt.plot(range(len(data_array) - len(predicted_values), len(data_array)), data_array[-len(predicted_values):], label='Actual')\n",
    "plt.plot(range(len(data_array) - len(predicted_values), len(data_array)), predicted_values, label='Predicted')\n",
    "plt.xlabel('Time')\n",
    "plt.ylabel('Value of Merchandise Trade')\n",
    "plt.title('LSTM Prediction')\n",
    "plt.legend()\n",
    "plt.show()\n"
   ]
  },
  {
   "cell_type": "code",
   "execution_count": 40,
   "id": "581eaace",
   "metadata": {},
   "outputs": [],
   "source": [
    "# Stop the SparkSession\n",
    "#spark.stop()"
   ]
  }
 ],
 "metadata": {
  "kernelspec": {
   "display_name": "Python 3 (ipykernel)",
   "language": "python",
   "name": "python3"
  },
  "language_info": {
   "codemirror_mode": {
    "name": "ipython",
    "version": 3
   },
   "file_extension": ".py",
   "mimetype": "text/x-python",
   "name": "python",
   "nbconvert_exporter": "python",
   "pygments_lexer": "ipython3",
   "version": "3.11.6"
  }
 },
 "nbformat": 4,
 "nbformat_minor": 5
}
