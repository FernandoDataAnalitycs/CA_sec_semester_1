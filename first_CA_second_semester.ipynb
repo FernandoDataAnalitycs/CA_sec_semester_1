{
 "cells": [
  {
   "cell_type": "markdown",
   "id": "2f181279",
   "metadata": {},
   "source": [
    "## FIRST COMMIT"
   ]
  },
  {
   "cell_type": "code",
   "execution_count": 1,
   "id": "d724c60e",
   "metadata": {},
   "outputs": [
    {
     "name": "stdout",
     "output_type": "stream",
     "text": [
      "first commit \n"
     ]
    }
   ],
   "source": [
    "print(\"first commit \")"
   ]
  },
  {
   "cell_type": "code",
   "execution_count": null,
   "id": "199d5ff6",
   "metadata": {},
   "outputs": [],
   "source": []
  },
  {
   "cell_type": "code",
   "execution_count": null,
   "id": "d7539491",
   "metadata": {},
   "outputs": [],
   "source": []
  }
 ],
 "metadata": {
  "kernelspec": {
   "display_name": "Python 3 (ipykernel)",
   "language": "python",
   "name": "python3"
  },
  "language_info": {
   "codemirror_mode": {
    "name": "ipython",
    "version": 3
   },
   "file_extension": ".py",
   "mimetype": "text/x-python",
   "name": "python",
   "nbconvert_exporter": "python",
   "pygments_lexer": "ipython3",
   "version": "3.11.5"
  }
 },
 "nbformat": 4,
 "nbformat_minor": 5
}
