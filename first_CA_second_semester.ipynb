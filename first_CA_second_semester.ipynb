{
 "cells": [
  {
   "cell_type": "markdown",
   "id": "2f181279",
   "metadata": {},
   "source": [
    "## Applying pyspark"
   ]
  },
  {
   "cell_type": "code",
   "execution_count": 1,
   "id": "3c8ae559",
   "metadata": {
    "scrolled": true
   },
   "outputs": [],
   "source": [
    "# install pyspark\n",
    "#!pip install pyspark"
   ]
  },
  {
   "cell_type": "code",
   "execution_count": 2,
   "id": "93f0926f",
   "metadata": {},
   "outputs": [
    {
     "name": "stdout",
     "output_type": "stream",
     "text": [
      "Python Version: 3.11.6 (main, Oct  8 2023, 05:06:43) [GCC 13.2.0]\n",
      "Virtual Environment Path: /usr\n"
     ]
    }
   ],
   "source": [
    "import sys\n",
    "\n",
    "print(\"Python Version:\", sys.version)\n",
    "print(\"Virtual Environment Path:\", sys.prefix)"
   ]
  },
  {
   "cell_type": "code",
   "execution_count": 3,
   "id": "eede8ec2",
   "metadata": {},
   "outputs": [
    {
     "data": {
      "text/html": [
       "\n",
       "        <div>\n",
       "            <p><b>SparkContext</b></p>\n",
       "\n",
       "            <p><a href=\"http://192.168.64.2:4040\">Spark UI</a></p>\n",
       "\n",
       "            <dl>\n",
       "              <dt>Version</dt>\n",
       "                <dd><code>v3.4.2</code></dd>\n",
       "              <dt>Master</dt>\n",
       "                <dd><code>local[*]</code></dd>\n",
       "              <dt>AppName</dt>\n",
       "                <dd><code>PySparkShell</code></dd>\n",
       "            </dl>\n",
       "        </div>\n",
       "        "
      ],
      "text/plain": [
       "<SparkContext master=local[*] appName=PySparkShell>"
      ]
     },
     "execution_count": 3,
     "metadata": {},
     "output_type": "execute_result"
    }
   ],
   "source": [
    "sc"
   ]
  },
  {
   "cell_type": "code",
   "execution_count": 4,
   "id": "d776396a",
   "metadata": {},
   "outputs": [],
   "source": [
    "import warnings\n",
    "warnings.filterwarnings(\"ignore\")"
   ]
  },
  {
   "cell_type": "markdown",
   "id": "0a0c1328",
   "metadata": {},
   "source": [
    " <h3>Comands to start using hadoop:</h3>\n",
    "\n",
    "\n",
    "<ul style=\"list-style-type: none;\">\n",
    "  <li>start-dfs.sh</li>\n",
    "  <li>start-yarn.sh</li>\n",
    "</ul>\n",
    "\n",
    " <h3>command to stop the process:</h3>\n",
    "\n",
    "<ul style=\"list-style-type: none;\">\n",
    "  <li>stop-dfs.sh </li>\n",
    "  <li>stop-yarn.sh</li>\n",
    "</ul>"
   ]
  },
  {
   "cell_type": "code",
   "execution_count": 5,
   "id": "d724c60e",
   "metadata": {
    "scrolled": true
   },
   "outputs": [
    {
     "name": "stderr",
     "output_type": "stream",
     "text": [
      "24/04/04 20:55:30 WARN SparkSession: Using an existing Spark session; only runtime SQL configurations will take effect.\n",
      "                                                                                \r"
     ]
    }
   ],
   "source": [
    "from pyspark.sql import SparkSession\n",
    "\n",
    "# Create a SparkSession\n",
    "spark = SparkSession.builder \\\n",
    "    .appName(\"Read CSV from HDFS\") \\\n",
    "    .getOrCreate()\n",
    "\n",
    "# Relative Path in HDFS\n",
    "# csv_file_path = \"/first_CA_second_sem/TSM10.20240320205332.csv\"\n",
    "\n",
    "csv_file_path = \"hdfs://localhost:9000/first_CA_second_sem/TSM10.20240320205332.csv\"\n",
    "\n",
    "# Read the CSV file into a DataFrame\n",
    "df = spark.read.csv(csv_file_path, header=True, inferSchema=True)\n",
    "\n"
   ]
  },
  {
   "cell_type": "code",
   "execution_count": 6,
   "id": "dd154c31",
   "metadata": {},
   "outputs": [],
   "source": [
    "default_fs = spark._jsc.hadoopConfiguration().get(\"fs.defaultFS\")"
   ]
  },
  {
   "cell_type": "code",
   "execution_count": 7,
   "id": "b92fc509",
   "metadata": {},
   "outputs": [
    {
     "name": "stdout",
     "output_type": "stream",
     "text": [
      "default_fs path is:  hdfs://localhost:9000\n"
     ]
    }
   ],
   "source": [
    "print(\"default_fs path is: \", default_fs)"
   ]
  },
  {
   "cell_type": "code",
   "execution_count": 8,
   "id": "19b6740e",
   "metadata": {
    "scrolled": true
   },
   "outputs": [
    {
     "name": "stdout",
     "output_type": "stream",
     "text": [
      "+---------+----------------+---------+------------+------------+--------------------+------------+---------+-------------+------+\n",
      "|STATISTIC| Statistic Label|TLIST(M1)|       Month|C02487V03011|     Commodity group|C03409V04104|  Country|         UNIT| VALUE|\n",
      "+---------+----------------+---------+------------+------------+--------------------+------------+---------+-------------+------+\n",
      "| TSM10C01|Value of Imports|   201501|2015 January|         101|Total merchandise...|          AT|  Austria|Euro Thousand| 15321|\n",
      "| TSM10C01|Value of Imports|   201501|2015 January|         101|Total merchandise...|          AU|Australia|Euro Thousand|  5064|\n",
      "| TSM10C01|Value of Imports|   201501|2015 January|         101|Total merchandise...|          BE|  Belgium|Euro Thousand|109964|\n",
      "| TSM10C01|Value of Imports|   201501|2015 January|         101|Total merchandise...|          BG| Bulgaria|Euro Thousand| 33988|\n",
      "| TSM10C01|Value of Imports|   201501|2015 January|         101|Total merchandise...|          BR|   Brazil|Euro Thousand| 12169|\n",
      "+---------+----------------+---------+------------+------------+--------------------+------------+---------+-------------+------+\n",
      "only showing top 5 rows\n",
      "\n"
     ]
    }
   ],
   "source": [
    "# Show the DataFrame\n",
    "df.show(5)"
   ]
  },
  {
   "cell_type": "code",
   "execution_count": 9,
   "id": "abf10485",
   "metadata": {},
   "outputs": [
    {
     "data": {
      "text/plain": [
       "pyspark.sql.dataframe.DataFrame"
      ]
     },
     "execution_count": 9,
     "metadata": {},
     "output_type": "execute_result"
    }
   ],
   "source": [
    "type(df)"
   ]
  },
  {
   "cell_type": "code",
   "execution_count": 10,
   "id": "095f0c5c",
   "metadata": {
    "scrolled": true
   },
   "outputs": [
    {
     "name": "stdout",
     "output_type": "stream",
     "text": [
      "root\n",
      " |-- STATISTIC: string (nullable = true)\n",
      " |-- Statistic Label: string (nullable = true)\n",
      " |-- TLIST(M1): integer (nullable = true)\n",
      " |-- Month: string (nullable = true)\n",
      " |-- C02487V03011: integer (nullable = true)\n",
      " |-- Commodity group: string (nullable = true)\n",
      " |-- C03409V04104: string (nullable = true)\n",
      " |-- Country: string (nullable = true)\n",
      " |-- UNIT: string (nullable = true)\n",
      " |-- VALUE: integer (nullable = true)\n",
      "\n"
     ]
    }
   ],
   "source": [
    "df.printSchema()"
   ]
  },
  {
   "cell_type": "code",
   "execution_count": 11,
   "id": "3519b887",
   "metadata": {},
   "outputs": [
    {
     "data": {
      "text/plain": [
       "['STATISTIC',\n",
       " 'Statistic Label',\n",
       " 'TLIST(M1)',\n",
       " 'Month',\n",
       " 'C02487V03011',\n",
       " 'Commodity group',\n",
       " 'C03409V04104',\n",
       " 'Country',\n",
       " 'UNIT',\n",
       " 'VALUE']"
      ]
     },
     "execution_count": 11,
     "metadata": {},
     "output_type": "execute_result"
    }
   ],
   "source": [
    "df.columns"
   ]
  },
  {
   "cell_type": "code",
   "execution_count": 12,
   "id": "034cee22",
   "metadata": {},
   "outputs": [
    {
     "name": "stderr",
     "output_type": "stream",
     "text": [
      "24/04/04 20:55:40 WARN package: Truncated the string representation of a plan since it was too large. This behavior can be adjusted by setting 'spark.sql.debug.maxToStringFields'.\n",
      "[Stage 3:=============================>                             (1 + 1) / 2]\r"
     ]
    },
    {
     "name": "stdout",
     "output_type": "stream",
     "text": [
      "+-------+---------+----------------+------------------+------------+-----------------+--------------------+------------+---------+-------------+-----------------+\n",
      "|summary|STATISTIC| Statistic Label|         TLIST(M1)|       Month|     C02487V03011|     Commodity group|C03409V04104|  Country|         UNIT|            VALUE|\n",
      "+-------+---------+----------------+------------------+------------+-----------------+--------------------+------------+---------+-------------+-----------------+\n",
      "|  count|   705012|          705012|            705012|      705012|           705012|              705012|      705012|   705012|       705012|           496279|\n",
      "|   mean|     null|            null| 201911.0366972477|        null|5051.712121212121|                null|        null|     null|         null|9231.518990326007|\n",
      "| stddev|     null|            null|261.32310506497976|        null|2875.646182107541|                null|        null|     null|         null|91717.59880938345|\n",
      "|    min| TSM10C01|Value of Exports|            201501|  2015 April|               10|Animal and vegeta...|          AT|Australia|Euro Thousand|                0|\n",
      "|    max| TSM10C02|Value of Imports|            202401|2024 January|             9008|Vegetables and fr...|    ZZWORX27|      USA|Euro Thousand|          7400502|\n",
      "+-------+---------+----------------+------------------+------------+-----------------+--------------------+------------+---------+-------------+-----------------+\n",
      "\n"
     ]
    },
    {
     "name": "stderr",
     "output_type": "stream",
     "text": [
      "\r",
      "                                                                                \r"
     ]
    }
   ],
   "source": [
    "# Get statistical summary of the DataFrame\n",
    "df.describe().show(5)\n"
   ]
  },
  {
   "cell_type": "code",
   "execution_count": 13,
   "id": "1e721ba8",
   "metadata": {},
   "outputs": [],
   "source": [
    "# selecting columns with spark method\n",
    "selected_df = df.select('Month', \"Commodity group\", \"VALUE\")\n"
   ]
  },
  {
   "cell_type": "code",
   "execution_count": 14,
   "id": "e89b748c",
   "metadata": {
    "scrolled": true
   },
   "outputs": [
    {
     "name": "stdout",
     "output_type": "stream",
     "text": [
      "+------------+--------------------+------+\n",
      "|       Month|     Commodity group| VALUE|\n",
      "+------------+--------------------+------+\n",
      "|2015 January|Total merchandise...| 15321|\n",
      "|2015 January|Total merchandise...|  5064|\n",
      "|2015 January|Total merchandise...|109964|\n",
      "|2015 January|Total merchandise...| 33988|\n",
      "|2015 January|Total merchandise...| 12169|\n",
      "+------------+--------------------+------+\n",
      "only showing top 5 rows\n",
      "\n"
     ]
    }
   ],
   "source": [
    "selected_df.show(5)\n"
   ]
  },
  {
   "cell_type": "code",
   "execution_count": 15,
   "id": "cbf30e89",
   "metadata": {},
   "outputs": [],
   "source": [
    "# Create a temporary view using the DataFrame\n",
    "df.createOrReplaceTempView(\"commodity_data\")"
   ]
  },
  {
   "cell_type": "code",
   "execution_count": 16,
   "id": "ae330658",
   "metadata": {},
   "outputs": [
    {
     "name": "stdout",
     "output_type": "stream",
     "text": [
      "table names:  [Table(name='commodity_data', catalog=None, namespace=[], description=None, tableType='TEMPORARY', isTemporary=True)]\n"
     ]
    }
   ],
   "source": [
    "# Getting a list of table names\n",
    "table_names = spark.catalog.listTables()\n",
    "\n",
    "print(\"table names: \", table_names)"
   ]
  },
  {
   "cell_type": "code",
   "execution_count": 50,
   "id": "f5cac95b",
   "metadata": {
    "scrolled": true
   },
   "outputs": [
    {
     "name": "stdout",
     "output_type": "stream",
     "text": [
      "+-------------+--------------------+-----+\n",
      "|        Month|     Commodity group|VALUE|\n",
      "+-------------+--------------------+-----+\n",
      "| 2015 January|Chemical material...|11176|\n",
      "|2015 February|Chemical material...|12978|\n",
      "|   2015 March|Chemical material...|16084|\n",
      "|   2015 April|Chemical material...|13355|\n",
      "|     2015 May|Chemical material...|14691|\n",
      "+-------------+--------------------+-----+\n",
      "only showing top 5 rows\n",
      "\n"
     ]
    }
   ],
   "source": [
    "# Write and execute the SQL query\n",
    "sql_query = \"\"\"\n",
    "SELECT `Month`, `Commodity group`, VALUE\n",
    "FROM commodity_data\n",
    "WHERE `Commodity group` = 'Chemical materials and products, n.e.s. (59)'\n",
    "AND Country = 'USA'\n",
    "\"\"\"\n",
    "\n",
    "sql_query_gb = \"\"\"\n",
    "SELECT `Month`, `Commodity group`, VALUE\n",
    "FROM commodity_data\n",
    "WHERE `Commodity group` = 'Chemical materials and products, n.e.s. (59)'\n",
    "AND Country = 'Great Britain'\n",
    "\"\"\"\n",
    "\n",
    "result_df = spark.sql(sql_query)\n",
    "result_df_gb = spark.sql(sql_query_gb)\n",
    "\n",
    "# Show the last 5 rows of the result DataFrame\n",
    "result_df.show(5)"
   ]
  },
  {
   "cell_type": "code",
   "execution_count": 51,
   "id": "8b43835f",
   "metadata": {},
   "outputs": [
    {
     "name": "stdout",
     "output_type": "stream",
     "text": [
      "+-------------+--------------------+-----+\n",
      "|        Month|     Commodity group|VALUE|\n",
      "+-------------+--------------------+-----+\n",
      "| 2015 January|Chemical material...|16636|\n",
      "|2015 February|Chemical material...|18627|\n",
      "|   2015 March|Chemical material...|20372|\n",
      "|   2015 April|Chemical material...|22223|\n",
      "|     2015 May|Chemical material...|21127|\n",
      "+-------------+--------------------+-----+\n",
      "only showing top 5 rows\n",
      "\n"
     ]
    }
   ],
   "source": [
    "# print gb dataset\n",
    "result_df_gb.show(5)"
   ]
  },
  {
   "cell_type": "code",
   "execution_count": 19,
   "id": "a8f31503",
   "metadata": {},
   "outputs": [
    {
     "name": "stderr",
     "output_type": "stream",
     "text": [
      "\r",
      "[Stage 11:>                                                         (0 + 2) / 2]\r"
     ]
    },
    {
     "name": "stdout",
     "output_type": "stream",
     "text": [
      "Total rows in VALUE column: 218\n"
     ]
    },
    {
     "name": "stderr",
     "output_type": "stream",
     "text": [
      "                                                                                \r"
     ]
    }
   ],
   "source": [
    "total_rows = result_df.count()\n",
    "print(\"Total rows in VALUE column:\", total_rows)"
   ]
  },
  {
   "cell_type": "code",
   "execution_count": 53,
   "id": "a99c1a25",
   "metadata": {},
   "outputs": [
    {
     "name": "stderr",
     "output_type": "stream",
     "text": [
      "\r",
      "[Stage 37:>                                                         (0 + 2) / 2]\r"
     ]
    },
    {
     "name": "stdout",
     "output_type": "stream",
     "text": [
      "Total rows in the british dataset: 218\n"
     ]
    },
    {
     "name": "stderr",
     "output_type": "stream",
     "text": [
      "\r",
      "                                                                                \r"
     ]
    }
   ],
   "source": [
    "# count rows in gb dataset\n",
    "print(\"Total rows in the british dataset:\", result_df_gb.count())"
   ]
  },
  {
   "cell_type": "code",
   "execution_count": 55,
   "id": "ce9f0e7b",
   "metadata": {},
   "outputs": [
    {
     "name": "stderr",
     "output_type": "stream",
     "text": [
      "\r",
      "[Stage 40:>                                                         (0 + 2) / 2]\r"
     ]
    },
    {
     "name": "stdout",
     "output_type": "stream",
     "text": [
      "There are no empty values in the 'VALUE' column.\n"
     ]
    },
    {
     "name": "stderr",
     "output_type": "stream",
     "text": [
      "\r",
      "                                                                                \r"
     ]
    }
   ],
   "source": [
    "# Check for null values in the DataFrame\n",
    "def check_null_values(dataset):\n",
    "    null_count = dataset.filter(result_df.VALUE.isNull()).count()\n",
    "\n",
    "    if null_count > 0:\n",
    "        print(\"There are empty values in the 'VALUE' column.\")\n",
    "    else:\n",
    "        print(\"There are no empty values in the 'VALUE' column.\")\n",
    "\n",
    "# check empty values in the american dataset\n",
    "check_null_values(result_df)"
   ]
  },
  {
   "cell_type": "code",
   "execution_count": 57,
   "id": "be1a6dc6",
   "metadata": {},
   "outputs": [
    {
     "name": "stderr",
     "output_type": "stream",
     "text": [
      "\r",
      "[Stage 46:>                                                         (0 + 2) / 2]\r",
      "\r",
      "[Stage 46:=============================>                            (1 + 1) / 2]\r"
     ]
    },
    {
     "name": "stdout",
     "output_type": "stream",
     "text": [
      "There are no empty values in the 'VALUE' column.\n"
     ]
    },
    {
     "name": "stderr",
     "output_type": "stream",
     "text": [
      "\r",
      "                                                                                \r"
     ]
    }
   ],
   "source": [
    "# check empty values in the british dataset\n",
    "check_null_values(result_df_gb)"
   ]
  },
  {
   "cell_type": "code",
   "execution_count": 58,
   "id": "8a4e3679",
   "metadata": {},
   "outputs": [
    {
     "name": "stderr",
     "output_type": "stream",
     "text": [
      "                                                                                \r"
     ]
    },
    {
     "data": {
      "application/vnd.plotly.v1+json": {
       "config": {
        "plotlyServerURL": "https://plot.ly"
       },
       "data": [
        {
         "hovertemplate": "Month=%{x}<br>VALUE=%{y}<extra></extra>",
         "legendgroup": "",
         "line": {
          "color": "blue",
          "dash": "solid",
          "width": 2
         },
         "marker": {
          "symbol": "circle"
         },
         "mode": "markers+lines",
         "name": "",
         "orientation": "v",
         "showlegend": false,
         "type": "scatter",
         "x": [
          "2015 January",
          "2015 February",
          "2015 March",
          "2015 April",
          "2015 May",
          "2015 June",
          "2015 July",
          "2015 August",
          "2015 September",
          "2015 October",
          "2015 November",
          "2015 December",
          "2016 January",
          "2016 February",
          "2016 March",
          "2016 April",
          "2016 May",
          "2016 June",
          "2016 July",
          "2016 August",
          "2016 September",
          "2016 October",
          "2016 November",
          "2016 December",
          "2017 January",
          "2017 February",
          "2017 March",
          "2017 April",
          "2017 May",
          "2017 June",
          "2017 July",
          "2017 August",
          "2017 September",
          "2017 October",
          "2017 November",
          "2017 December",
          "2018 January",
          "2018 February",
          "2018 March",
          "2018 April",
          "2018 May",
          "2018 June",
          "2018 July",
          "2018 August",
          "2018 September",
          "2018 October",
          "2018 November",
          "2018 December",
          "2019 January",
          "2019 February",
          "2019 March",
          "2019 April",
          "2019 May",
          "2019 June",
          "2019 July",
          "2019 August",
          "2019 September",
          "2019 October",
          "2019 November",
          "2019 December",
          "2020 January",
          "2020 February",
          "2020 March",
          "2020 April",
          "2020 May",
          "2020 June",
          "2020 July",
          "2020 August",
          "2020 September",
          "2020 October",
          "2020 November",
          "2020 December",
          "2021 January",
          "2021 February",
          "2021 March",
          "2021 April",
          "2021 May",
          "2021 June",
          "2021 July",
          "2021 August",
          "2021 September",
          "2021 October",
          "2021 November",
          "2021 December",
          "2022 January",
          "2022 February",
          "2022 March",
          "2022 April",
          "2022 May",
          "2022 June",
          "2022 July",
          "2022 August",
          "2022 September",
          "2022 October",
          "2022 November",
          "2022 December",
          "2023 January",
          "2023 February",
          "2023 March",
          "2023 April",
          "2023 May",
          "2023 June",
          "2023 July",
          "2023 August",
          "2023 September",
          "2023 October",
          "2023 November",
          "2023 December",
          "2024 January",
          "2015 January",
          "2015 February",
          "2015 March",
          "2015 April",
          "2015 May",
          "2015 June",
          "2015 July",
          "2015 August",
          "2015 September",
          "2015 October",
          "2015 November",
          "2015 December",
          "2016 January",
          "2016 February",
          "2016 March",
          "2016 April",
          "2016 May",
          "2016 June",
          "2016 July",
          "2016 August",
          "2016 September",
          "2016 October",
          "2016 November",
          "2016 December",
          "2017 January",
          "2017 February",
          "2017 March",
          "2017 April",
          "2017 May",
          "2017 June",
          "2017 July",
          "2017 August",
          "2017 September",
          "2017 October",
          "2017 November",
          "2017 December",
          "2018 January",
          "2018 February",
          "2018 March",
          "2018 April",
          "2018 May",
          "2018 June",
          "2018 July",
          "2018 August",
          "2018 September",
          "2018 October",
          "2018 November",
          "2018 December",
          "2019 January",
          "2019 February",
          "2019 March",
          "2019 April",
          "2019 May",
          "2019 June",
          "2019 July",
          "2019 August",
          "2019 September",
          "2019 October",
          "2019 November",
          "2019 December",
          "2020 January",
          "2020 February",
          "2020 March",
          "2020 April",
          "2020 May",
          "2020 June",
          "2020 July",
          "2020 August",
          "2020 September",
          "2020 October",
          "2020 November",
          "2020 December",
          "2021 January",
          "2021 February",
          "2021 March",
          "2021 April",
          "2021 May",
          "2021 June",
          "2021 July",
          "2021 August",
          "2021 September",
          "2021 October",
          "2021 November",
          "2021 December",
          "2022 January",
          "2022 February",
          "2022 March",
          "2022 April",
          "2022 May",
          "2022 June",
          "2022 July",
          "2022 August",
          "2022 September",
          "2022 October",
          "2022 November",
          "2022 December",
          "2023 January",
          "2023 February",
          "2023 March",
          "2023 April",
          "2023 May",
          "2023 June",
          "2023 July",
          "2023 August",
          "2023 September",
          "2023 October",
          "2023 November",
          "2023 December",
          "2024 January"
         ],
         "xaxis": "x",
         "y": [
          11176,
          12978,
          16084,
          13355,
          14691,
          12921,
          17114,
          13532,
          13342,
          12773,
          14291,
          16256,
          15362,
          18301,
          21993,
          12712,
          17917,
          13579,
          13138,
          14451,
          15066,
          13133,
          15703,
          11799,
          14207,
          13013,
          15159,
          11923,
          13251,
          14581,
          14654,
          14282,
          20896,
          13945,
          16298,
          21819,
          16601,
          13020,
          14489,
          17024,
          15554,
          14364,
          12341,
          15743,
          11764,
          12790,
          15223,
          14814,
          15503,
          14830,
          19779,
          13631,
          13477,
          11343,
          15290,
          11642,
          19777,
          16330,
          16743,
          12742,
          13961,
          12251,
          18647,
          18108,
          20205,
          19386,
          20834,
          11987,
          19426,
          19951,
          22506,
          20318,
          18084,
          18806,
          21895,
          22887,
          17407,
          19217,
          19733,
          23322,
          22517,
          22493,
          28881,
          28871,
          29789,
          16763,
          20357,
          16089,
          23186,
          31070,
          20272,
          19681,
          30802,
          23234,
          24673,
          70713,
          31117,
          27007,
          31403,
          23848,
          31405,
          34702,
          27572,
          25109,
          36628,
          27464,
          25112,
          31014,
          23962,
          11590,
          11246,
          16199,
          17055,
          17508,
          17361,
          21453,
          17383,
          15641,
          16863,
          17931,
          20696,
          11065,
          10397,
          17798,
          12732,
          17209,
          14273,
          15741,
          20970,
          22247,
          21278,
          22418,
          20134,
          17863,
          12990,
          25887,
          22152,
          18334,
          22781,
          24786,
          24541,
          29802,
          29619,
          26353,
          28321,
          21718,
          16085,
          25241,
          25108,
          23132,
          27926,
          25498,
          23760,
          19865,
          18368,
          33812,
          18956,
          13359,
          10763,
          20173,
          17549,
          33861,
          23949,
          25943,
          22589,
          22507,
          21628,
          33028,
          14595,
          19511,
          15811,
          20272,
          22722,
          23254,
          23013,
          15653,
          16022,
          16885,
          22207,
          20613,
          16591,
          14743,
          15150,
          15787,
          22573,
          15199,
          19204,
          16819,
          18988,
          22738,
          22620,
          26099,
          34248,
          8398,
          9607,
          12260,
          10265,
          14754,
          24233,
          24107,
          27065,
          23777,
          26163,
          21342,
          20443,
          12772,
          13214,
          18586,
          18828,
          16908,
          30472,
          21054,
          21730,
          31454,
          20282,
          22408,
          19047,
          13578
         ],
         "yaxis": "y"
        }
       ],
       "layout": {
        "legend": {
         "tracegroupgap": 0
        },
        "template": {
         "data": {
          "bar": [
           {
            "error_x": {
             "color": "#2a3f5f"
            },
            "error_y": {
             "color": "#2a3f5f"
            },
            "marker": {
             "line": {
              "color": "#E5ECF6",
              "width": 0.5
             },
             "pattern": {
              "fillmode": "overlay",
              "size": 10,
              "solidity": 0.2
             }
            },
            "type": "bar"
           }
          ],
          "barpolar": [
           {
            "marker": {
             "line": {
              "color": "#E5ECF6",
              "width": 0.5
             },
             "pattern": {
              "fillmode": "overlay",
              "size": 10,
              "solidity": 0.2
             }
            },
            "type": "barpolar"
           }
          ],
          "carpet": [
           {
            "aaxis": {
             "endlinecolor": "#2a3f5f",
             "gridcolor": "white",
             "linecolor": "white",
             "minorgridcolor": "white",
             "startlinecolor": "#2a3f5f"
            },
            "baxis": {
             "endlinecolor": "#2a3f5f",
             "gridcolor": "white",
             "linecolor": "white",
             "minorgridcolor": "white",
             "startlinecolor": "#2a3f5f"
            },
            "type": "carpet"
           }
          ],
          "choropleth": [
           {
            "colorbar": {
             "outlinewidth": 0,
             "ticks": ""
            },
            "type": "choropleth"
           }
          ],
          "contour": [
           {
            "colorbar": {
             "outlinewidth": 0,
             "ticks": ""
            },
            "colorscale": [
             [
              0,
              "#0d0887"
             ],
             [
              0.1111111111111111,
              "#46039f"
             ],
             [
              0.2222222222222222,
              "#7201a8"
             ],
             [
              0.3333333333333333,
              "#9c179e"
             ],
             [
              0.4444444444444444,
              "#bd3786"
             ],
             [
              0.5555555555555556,
              "#d8576b"
             ],
             [
              0.6666666666666666,
              "#ed7953"
             ],
             [
              0.7777777777777778,
              "#fb9f3a"
             ],
             [
              0.8888888888888888,
              "#fdca26"
             ],
             [
              1,
              "#f0f921"
             ]
            ],
            "type": "contour"
           }
          ],
          "contourcarpet": [
           {
            "colorbar": {
             "outlinewidth": 0,
             "ticks": ""
            },
            "type": "contourcarpet"
           }
          ],
          "heatmap": [
           {
            "colorbar": {
             "outlinewidth": 0,
             "ticks": ""
            },
            "colorscale": [
             [
              0,
              "#0d0887"
             ],
             [
              0.1111111111111111,
              "#46039f"
             ],
             [
              0.2222222222222222,
              "#7201a8"
             ],
             [
              0.3333333333333333,
              "#9c179e"
             ],
             [
              0.4444444444444444,
              "#bd3786"
             ],
             [
              0.5555555555555556,
              "#d8576b"
             ],
             [
              0.6666666666666666,
              "#ed7953"
             ],
             [
              0.7777777777777778,
              "#fb9f3a"
             ],
             [
              0.8888888888888888,
              "#fdca26"
             ],
             [
              1,
              "#f0f921"
             ]
            ],
            "type": "heatmap"
           }
          ],
          "heatmapgl": [
           {
            "colorbar": {
             "outlinewidth": 0,
             "ticks": ""
            },
            "colorscale": [
             [
              0,
              "#0d0887"
             ],
             [
              0.1111111111111111,
              "#46039f"
             ],
             [
              0.2222222222222222,
              "#7201a8"
             ],
             [
              0.3333333333333333,
              "#9c179e"
             ],
             [
              0.4444444444444444,
              "#bd3786"
             ],
             [
              0.5555555555555556,
              "#d8576b"
             ],
             [
              0.6666666666666666,
              "#ed7953"
             ],
             [
              0.7777777777777778,
              "#fb9f3a"
             ],
             [
              0.8888888888888888,
              "#fdca26"
             ],
             [
              1,
              "#f0f921"
             ]
            ],
            "type": "heatmapgl"
           }
          ],
          "histogram": [
           {
            "marker": {
             "pattern": {
              "fillmode": "overlay",
              "size": 10,
              "solidity": 0.2
             }
            },
            "type": "histogram"
           }
          ],
          "histogram2d": [
           {
            "colorbar": {
             "outlinewidth": 0,
             "ticks": ""
            },
            "colorscale": [
             [
              0,
              "#0d0887"
             ],
             [
              0.1111111111111111,
              "#46039f"
             ],
             [
              0.2222222222222222,
              "#7201a8"
             ],
             [
              0.3333333333333333,
              "#9c179e"
             ],
             [
              0.4444444444444444,
              "#bd3786"
             ],
             [
              0.5555555555555556,
              "#d8576b"
             ],
             [
              0.6666666666666666,
              "#ed7953"
             ],
             [
              0.7777777777777778,
              "#fb9f3a"
             ],
             [
              0.8888888888888888,
              "#fdca26"
             ],
             [
              1,
              "#f0f921"
             ]
            ],
            "type": "histogram2d"
           }
          ],
          "histogram2dcontour": [
           {
            "colorbar": {
             "outlinewidth": 0,
             "ticks": ""
            },
            "colorscale": [
             [
              0,
              "#0d0887"
             ],
             [
              0.1111111111111111,
              "#46039f"
             ],
             [
              0.2222222222222222,
              "#7201a8"
             ],
             [
              0.3333333333333333,
              "#9c179e"
             ],
             [
              0.4444444444444444,
              "#bd3786"
             ],
             [
              0.5555555555555556,
              "#d8576b"
             ],
             [
              0.6666666666666666,
              "#ed7953"
             ],
             [
              0.7777777777777778,
              "#fb9f3a"
             ],
             [
              0.8888888888888888,
              "#fdca26"
             ],
             [
              1,
              "#f0f921"
             ]
            ],
            "type": "histogram2dcontour"
           }
          ],
          "mesh3d": [
           {
            "colorbar": {
             "outlinewidth": 0,
             "ticks": ""
            },
            "type": "mesh3d"
           }
          ],
          "parcoords": [
           {
            "line": {
             "colorbar": {
              "outlinewidth": 0,
              "ticks": ""
             }
            },
            "type": "parcoords"
           }
          ],
          "pie": [
           {
            "automargin": true,
            "type": "pie"
           }
          ],
          "scatter": [
           {
            "fillpattern": {
             "fillmode": "overlay",
             "size": 10,
             "solidity": 0.2
            },
            "type": "scatter"
           }
          ],
          "scatter3d": [
           {
            "line": {
             "colorbar": {
              "outlinewidth": 0,
              "ticks": ""
             }
            },
            "marker": {
             "colorbar": {
              "outlinewidth": 0,
              "ticks": ""
             }
            },
            "type": "scatter3d"
           }
          ],
          "scattercarpet": [
           {
            "marker": {
             "colorbar": {
              "outlinewidth": 0,
              "ticks": ""
             }
            },
            "type": "scattercarpet"
           }
          ],
          "scattergeo": [
           {
            "marker": {
             "colorbar": {
              "outlinewidth": 0,
              "ticks": ""
             }
            },
            "type": "scattergeo"
           }
          ],
          "scattergl": [
           {
            "marker": {
             "colorbar": {
              "outlinewidth": 0,
              "ticks": ""
             }
            },
            "type": "scattergl"
           }
          ],
          "scattermapbox": [
           {
            "marker": {
             "colorbar": {
              "outlinewidth": 0,
              "ticks": ""
             }
            },
            "type": "scattermapbox"
           }
          ],
          "scatterpolar": [
           {
            "marker": {
             "colorbar": {
              "outlinewidth": 0,
              "ticks": ""
             }
            },
            "type": "scatterpolar"
           }
          ],
          "scatterpolargl": [
           {
            "marker": {
             "colorbar": {
              "outlinewidth": 0,
              "ticks": ""
             }
            },
            "type": "scatterpolargl"
           }
          ],
          "scatterternary": [
           {
            "marker": {
             "colorbar": {
              "outlinewidth": 0,
              "ticks": ""
             }
            },
            "type": "scatterternary"
           }
          ],
          "surface": [
           {
            "colorbar": {
             "outlinewidth": 0,
             "ticks": ""
            },
            "colorscale": [
             [
              0,
              "#0d0887"
             ],
             [
              0.1111111111111111,
              "#46039f"
             ],
             [
              0.2222222222222222,
              "#7201a8"
             ],
             [
              0.3333333333333333,
              "#9c179e"
             ],
             [
              0.4444444444444444,
              "#bd3786"
             ],
             [
              0.5555555555555556,
              "#d8576b"
             ],
             [
              0.6666666666666666,
              "#ed7953"
             ],
             [
              0.7777777777777778,
              "#fb9f3a"
             ],
             [
              0.8888888888888888,
              "#fdca26"
             ],
             [
              1,
              "#f0f921"
             ]
            ],
            "type": "surface"
           }
          ],
          "table": [
           {
            "cells": {
             "fill": {
              "color": "#EBF0F8"
             },
             "line": {
              "color": "white"
             }
            },
            "header": {
             "fill": {
              "color": "#C8D4E3"
             },
             "line": {
              "color": "white"
             }
            },
            "type": "table"
           }
          ]
         },
         "layout": {
          "annotationdefaults": {
           "arrowcolor": "#2a3f5f",
           "arrowhead": 0,
           "arrowwidth": 1
          },
          "autotypenumbers": "strict",
          "coloraxis": {
           "colorbar": {
            "outlinewidth": 0,
            "ticks": ""
           }
          },
          "colorscale": {
           "diverging": [
            [
             0,
             "#8e0152"
            ],
            [
             0.1,
             "#c51b7d"
            ],
            [
             0.2,
             "#de77ae"
            ],
            [
             0.3,
             "#f1b6da"
            ],
            [
             0.4,
             "#fde0ef"
            ],
            [
             0.5,
             "#f7f7f7"
            ],
            [
             0.6,
             "#e6f5d0"
            ],
            [
             0.7,
             "#b8e186"
            ],
            [
             0.8,
             "#7fbc41"
            ],
            [
             0.9,
             "#4d9221"
            ],
            [
             1,
             "#276419"
            ]
           ],
           "sequential": [
            [
             0,
             "#0d0887"
            ],
            [
             0.1111111111111111,
             "#46039f"
            ],
            [
             0.2222222222222222,
             "#7201a8"
            ],
            [
             0.3333333333333333,
             "#9c179e"
            ],
            [
             0.4444444444444444,
             "#bd3786"
            ],
            [
             0.5555555555555556,
             "#d8576b"
            ],
            [
             0.6666666666666666,
             "#ed7953"
            ],
            [
             0.7777777777777778,
             "#fb9f3a"
            ],
            [
             0.8888888888888888,
             "#fdca26"
            ],
            [
             1,
             "#f0f921"
            ]
           ],
           "sequentialminus": [
            [
             0,
             "#0d0887"
            ],
            [
             0.1111111111111111,
             "#46039f"
            ],
            [
             0.2222222222222222,
             "#7201a8"
            ],
            [
             0.3333333333333333,
             "#9c179e"
            ],
            [
             0.4444444444444444,
             "#bd3786"
            ],
            [
             0.5555555555555556,
             "#d8576b"
            ],
            [
             0.6666666666666666,
             "#ed7953"
            ],
            [
             0.7777777777777778,
             "#fb9f3a"
            ],
            [
             0.8888888888888888,
             "#fdca26"
            ],
            [
             1,
             "#f0f921"
            ]
           ]
          },
          "colorway": [
           "#636efa",
           "#EF553B",
           "#00cc96",
           "#ab63fa",
           "#FFA15A",
           "#19d3f3",
           "#FF6692",
           "#B6E880",
           "#FF97FF",
           "#FECB52"
          ],
          "font": {
           "color": "#2a3f5f"
          },
          "geo": {
           "bgcolor": "white",
           "lakecolor": "white",
           "landcolor": "#E5ECF6",
           "showlakes": true,
           "showland": true,
           "subunitcolor": "white"
          },
          "hoverlabel": {
           "align": "left"
          },
          "hovermode": "closest",
          "mapbox": {
           "style": "light"
          },
          "paper_bgcolor": "white",
          "plot_bgcolor": "#E5ECF6",
          "polar": {
           "angularaxis": {
            "gridcolor": "white",
            "linecolor": "white",
            "ticks": ""
           },
           "bgcolor": "#E5ECF6",
           "radialaxis": {
            "gridcolor": "white",
            "linecolor": "white",
            "ticks": ""
           }
          },
          "scene": {
           "xaxis": {
            "backgroundcolor": "#E5ECF6",
            "gridcolor": "white",
            "gridwidth": 2,
            "linecolor": "white",
            "showbackground": true,
            "ticks": "",
            "zerolinecolor": "white"
           },
           "yaxis": {
            "backgroundcolor": "#E5ECF6",
            "gridcolor": "white",
            "gridwidth": 2,
            "linecolor": "white",
            "showbackground": true,
            "ticks": "",
            "zerolinecolor": "white"
           },
           "zaxis": {
            "backgroundcolor": "#E5ECF6",
            "gridcolor": "white",
            "gridwidth": 2,
            "linecolor": "white",
            "showbackground": true,
            "ticks": "",
            "zerolinecolor": "white"
           }
          },
          "shapedefaults": {
           "line": {
            "color": "#2a3f5f"
           }
          },
          "ternary": {
           "aaxis": {
            "gridcolor": "white",
            "linecolor": "white",
            "ticks": ""
           },
           "baxis": {
            "gridcolor": "white",
            "linecolor": "white",
            "ticks": ""
           },
           "bgcolor": "#E5ECF6",
           "caxis": {
            "gridcolor": "white",
            "linecolor": "white",
            "ticks": ""
           }
          },
          "title": {
           "x": 0.05
          },
          "xaxis": {
           "automargin": true,
           "gridcolor": "white",
           "linecolor": "white",
           "ticks": "",
           "title": {
            "standoff": 15
           },
           "zerolinecolor": "white",
           "zerolinewidth": 2
          },
          "yaxis": {
           "automargin": true,
           "gridcolor": "white",
           "linecolor": "white",
           "ticks": "",
           "title": {
            "standoff": 15
           },
           "zerolinecolor": "white",
           "zerolinewidth": 2
          }
         }
        },
        "title": {
         "text": "Time Series of VALUE"
        },
        "xaxis": {
         "anchor": "y",
         "domain": [
          0,
          1
         ],
         "title": {
          "text": "Month"
         }
        },
        "yaxis": {
         "anchor": "x",
         "domain": [
          0,
          1
         ],
         "tickformat": ",.0f",
         "title": {
          "text": "VALUE"
         }
        }
       }
      },
      "text/html": [
       "<div>                            <div id=\"889b7192-cb83-4f4c-976f-cde3828efa84\" class=\"plotly-graph-div\" style=\"height:525px; width:100%;\"></div>            <script type=\"text/javascript\">                require([\"plotly\"], function(Plotly) {                    window.PLOTLYENV=window.PLOTLYENV || {};                                    if (document.getElementById(\"889b7192-cb83-4f4c-976f-cde3828efa84\")) {                    Plotly.newPlot(                        \"889b7192-cb83-4f4c-976f-cde3828efa84\",                        [{\"hovertemplate\":\"Month=%{x}\\u003cbr\\u003eVALUE=%{y}\\u003cextra\\u003e\\u003c\\u002fextra\\u003e\",\"legendgroup\":\"\",\"line\":{\"color\":\"blue\",\"dash\":\"solid\",\"width\":2},\"marker\":{\"symbol\":\"circle\"},\"mode\":\"markers+lines\",\"name\":\"\",\"orientation\":\"v\",\"showlegend\":false,\"x\":[\"2015 January\",\"2015 February\",\"2015 March\",\"2015 April\",\"2015 May\",\"2015 June\",\"2015 July\",\"2015 August\",\"2015 September\",\"2015 October\",\"2015 November\",\"2015 December\",\"2016 January\",\"2016 February\",\"2016 March\",\"2016 April\",\"2016 May\",\"2016 June\",\"2016 July\",\"2016 August\",\"2016 September\",\"2016 October\",\"2016 November\",\"2016 December\",\"2017 January\",\"2017 February\",\"2017 March\",\"2017 April\",\"2017 May\",\"2017 June\",\"2017 July\",\"2017 August\",\"2017 September\",\"2017 October\",\"2017 November\",\"2017 December\",\"2018 January\",\"2018 February\",\"2018 March\",\"2018 April\",\"2018 May\",\"2018 June\",\"2018 July\",\"2018 August\",\"2018 September\",\"2018 October\",\"2018 November\",\"2018 December\",\"2019 January\",\"2019 February\",\"2019 March\",\"2019 April\",\"2019 May\",\"2019 June\",\"2019 July\",\"2019 August\",\"2019 September\",\"2019 October\",\"2019 November\",\"2019 December\",\"2020 January\",\"2020 February\",\"2020 March\",\"2020 April\",\"2020 May\",\"2020 June\",\"2020 July\",\"2020 August\",\"2020 September\",\"2020 October\",\"2020 November\",\"2020 December\",\"2021 January\",\"2021 February\",\"2021 March\",\"2021 April\",\"2021 May\",\"2021 June\",\"2021 July\",\"2021 August\",\"2021 September\",\"2021 October\",\"2021 November\",\"2021 December\",\"2022 January\",\"2022 February\",\"2022 March\",\"2022 April\",\"2022 May\",\"2022 June\",\"2022 July\",\"2022 August\",\"2022 September\",\"2022 October\",\"2022 November\",\"2022 December\",\"2023 January\",\"2023 February\",\"2023 March\",\"2023 April\",\"2023 May\",\"2023 June\",\"2023 July\",\"2023 August\",\"2023 September\",\"2023 October\",\"2023 November\",\"2023 December\",\"2024 January\",\"2015 January\",\"2015 February\",\"2015 March\",\"2015 April\",\"2015 May\",\"2015 June\",\"2015 July\",\"2015 August\",\"2015 September\",\"2015 October\",\"2015 November\",\"2015 December\",\"2016 January\",\"2016 February\",\"2016 March\",\"2016 April\",\"2016 May\",\"2016 June\",\"2016 July\",\"2016 August\",\"2016 September\",\"2016 October\",\"2016 November\",\"2016 December\",\"2017 January\",\"2017 February\",\"2017 March\",\"2017 April\",\"2017 May\",\"2017 June\",\"2017 July\",\"2017 August\",\"2017 September\",\"2017 October\",\"2017 November\",\"2017 December\",\"2018 January\",\"2018 February\",\"2018 March\",\"2018 April\",\"2018 May\",\"2018 June\",\"2018 July\",\"2018 August\",\"2018 September\",\"2018 October\",\"2018 November\",\"2018 December\",\"2019 January\",\"2019 February\",\"2019 March\",\"2019 April\",\"2019 May\",\"2019 June\",\"2019 July\",\"2019 August\",\"2019 September\",\"2019 October\",\"2019 November\",\"2019 December\",\"2020 January\",\"2020 February\",\"2020 March\",\"2020 April\",\"2020 May\",\"2020 June\",\"2020 July\",\"2020 August\",\"2020 September\",\"2020 October\",\"2020 November\",\"2020 December\",\"2021 January\",\"2021 February\",\"2021 March\",\"2021 April\",\"2021 May\",\"2021 June\",\"2021 July\",\"2021 August\",\"2021 September\",\"2021 October\",\"2021 November\",\"2021 December\",\"2022 January\",\"2022 February\",\"2022 March\",\"2022 April\",\"2022 May\",\"2022 June\",\"2022 July\",\"2022 August\",\"2022 September\",\"2022 October\",\"2022 November\",\"2022 December\",\"2023 January\",\"2023 February\",\"2023 March\",\"2023 April\",\"2023 May\",\"2023 June\",\"2023 July\",\"2023 August\",\"2023 September\",\"2023 October\",\"2023 November\",\"2023 December\",\"2024 January\"],\"xaxis\":\"x\",\"y\":[11176,12978,16084,13355,14691,12921,17114,13532,13342,12773,14291,16256,15362,18301,21993,12712,17917,13579,13138,14451,15066,13133,15703,11799,14207,13013,15159,11923,13251,14581,14654,14282,20896,13945,16298,21819,16601,13020,14489,17024,15554,14364,12341,15743,11764,12790,15223,14814,15503,14830,19779,13631,13477,11343,15290,11642,19777,16330,16743,12742,13961,12251,18647,18108,20205,19386,20834,11987,19426,19951,22506,20318,18084,18806,21895,22887,17407,19217,19733,23322,22517,22493,28881,28871,29789,16763,20357,16089,23186,31070,20272,19681,30802,23234,24673,70713,31117,27007,31403,23848,31405,34702,27572,25109,36628,27464,25112,31014,23962,11590,11246,16199,17055,17508,17361,21453,17383,15641,16863,17931,20696,11065,10397,17798,12732,17209,14273,15741,20970,22247,21278,22418,20134,17863,12990,25887,22152,18334,22781,24786,24541,29802,29619,26353,28321,21718,16085,25241,25108,23132,27926,25498,23760,19865,18368,33812,18956,13359,10763,20173,17549,33861,23949,25943,22589,22507,21628,33028,14595,19511,15811,20272,22722,23254,23013,15653,16022,16885,22207,20613,16591,14743,15150,15787,22573,15199,19204,16819,18988,22738,22620,26099,34248,8398,9607,12260,10265,14754,24233,24107,27065,23777,26163,21342,20443,12772,13214,18586,18828,16908,30472,21054,21730,31454,20282,22408,19047,13578],\"yaxis\":\"y\",\"type\":\"scatter\"}],                        {\"template\":{\"data\":{\"histogram2dcontour\":[{\"type\":\"histogram2dcontour\",\"colorbar\":{\"outlinewidth\":0,\"ticks\":\"\"},\"colorscale\":[[0.0,\"#0d0887\"],[0.1111111111111111,\"#46039f\"],[0.2222222222222222,\"#7201a8\"],[0.3333333333333333,\"#9c179e\"],[0.4444444444444444,\"#bd3786\"],[0.5555555555555556,\"#d8576b\"],[0.6666666666666666,\"#ed7953\"],[0.7777777777777778,\"#fb9f3a\"],[0.8888888888888888,\"#fdca26\"],[1.0,\"#f0f921\"]]}],\"choropleth\":[{\"type\":\"choropleth\",\"colorbar\":{\"outlinewidth\":0,\"ticks\":\"\"}}],\"histogram2d\":[{\"type\":\"histogram2d\",\"colorbar\":{\"outlinewidth\":0,\"ticks\":\"\"},\"colorscale\":[[0.0,\"#0d0887\"],[0.1111111111111111,\"#46039f\"],[0.2222222222222222,\"#7201a8\"],[0.3333333333333333,\"#9c179e\"],[0.4444444444444444,\"#bd3786\"],[0.5555555555555556,\"#d8576b\"],[0.6666666666666666,\"#ed7953\"],[0.7777777777777778,\"#fb9f3a\"],[0.8888888888888888,\"#fdca26\"],[1.0,\"#f0f921\"]]}],\"heatmap\":[{\"type\":\"heatmap\",\"colorbar\":{\"outlinewidth\":0,\"ticks\":\"\"},\"colorscale\":[[0.0,\"#0d0887\"],[0.1111111111111111,\"#46039f\"],[0.2222222222222222,\"#7201a8\"],[0.3333333333333333,\"#9c179e\"],[0.4444444444444444,\"#bd3786\"],[0.5555555555555556,\"#d8576b\"],[0.6666666666666666,\"#ed7953\"],[0.7777777777777778,\"#fb9f3a\"],[0.8888888888888888,\"#fdca26\"],[1.0,\"#f0f921\"]]}],\"heatmapgl\":[{\"type\":\"heatmapgl\",\"colorbar\":{\"outlinewidth\":0,\"ticks\":\"\"},\"colorscale\":[[0.0,\"#0d0887\"],[0.1111111111111111,\"#46039f\"],[0.2222222222222222,\"#7201a8\"],[0.3333333333333333,\"#9c179e\"],[0.4444444444444444,\"#bd3786\"],[0.5555555555555556,\"#d8576b\"],[0.6666666666666666,\"#ed7953\"],[0.7777777777777778,\"#fb9f3a\"],[0.8888888888888888,\"#fdca26\"],[1.0,\"#f0f921\"]]}],\"contourcarpet\":[{\"type\":\"contourcarpet\",\"colorbar\":{\"outlinewidth\":0,\"ticks\":\"\"}}],\"contour\":[{\"type\":\"contour\",\"colorbar\":{\"outlinewidth\":0,\"ticks\":\"\"},\"colorscale\":[[0.0,\"#0d0887\"],[0.1111111111111111,\"#46039f\"],[0.2222222222222222,\"#7201a8\"],[0.3333333333333333,\"#9c179e\"],[0.4444444444444444,\"#bd3786\"],[0.5555555555555556,\"#d8576b\"],[0.6666666666666666,\"#ed7953\"],[0.7777777777777778,\"#fb9f3a\"],[0.8888888888888888,\"#fdca26\"],[1.0,\"#f0f921\"]]}],\"surface\":[{\"type\":\"surface\",\"colorbar\":{\"outlinewidth\":0,\"ticks\":\"\"},\"colorscale\":[[0.0,\"#0d0887\"],[0.1111111111111111,\"#46039f\"],[0.2222222222222222,\"#7201a8\"],[0.3333333333333333,\"#9c179e\"],[0.4444444444444444,\"#bd3786\"],[0.5555555555555556,\"#d8576b\"],[0.6666666666666666,\"#ed7953\"],[0.7777777777777778,\"#fb9f3a\"],[0.8888888888888888,\"#fdca26\"],[1.0,\"#f0f921\"]]}],\"mesh3d\":[{\"type\":\"mesh3d\",\"colorbar\":{\"outlinewidth\":0,\"ticks\":\"\"}}],\"scatter\":[{\"fillpattern\":{\"fillmode\":\"overlay\",\"size\":10,\"solidity\":0.2},\"type\":\"scatter\"}],\"parcoords\":[{\"type\":\"parcoords\",\"line\":{\"colorbar\":{\"outlinewidth\":0,\"ticks\":\"\"}}}],\"scatterpolargl\":[{\"type\":\"scatterpolargl\",\"marker\":{\"colorbar\":{\"outlinewidth\":0,\"ticks\":\"\"}}}],\"bar\":[{\"error_x\":{\"color\":\"#2a3f5f\"},\"error_y\":{\"color\":\"#2a3f5f\"},\"marker\":{\"line\":{\"color\":\"#E5ECF6\",\"width\":0.5},\"pattern\":{\"fillmode\":\"overlay\",\"size\":10,\"solidity\":0.2}},\"type\":\"bar\"}],\"scattergeo\":[{\"type\":\"scattergeo\",\"marker\":{\"colorbar\":{\"outlinewidth\":0,\"ticks\":\"\"}}}],\"scatterpolar\":[{\"type\":\"scatterpolar\",\"marker\":{\"colorbar\":{\"outlinewidth\":0,\"ticks\":\"\"}}}],\"histogram\":[{\"marker\":{\"pattern\":{\"fillmode\":\"overlay\",\"size\":10,\"solidity\":0.2}},\"type\":\"histogram\"}],\"scattergl\":[{\"type\":\"scattergl\",\"marker\":{\"colorbar\":{\"outlinewidth\":0,\"ticks\":\"\"}}}],\"scatter3d\":[{\"type\":\"scatter3d\",\"line\":{\"colorbar\":{\"outlinewidth\":0,\"ticks\":\"\"}},\"marker\":{\"colorbar\":{\"outlinewidth\":0,\"ticks\":\"\"}}}],\"scattermapbox\":[{\"type\":\"scattermapbox\",\"marker\":{\"colorbar\":{\"outlinewidth\":0,\"ticks\":\"\"}}}],\"scatterternary\":[{\"type\":\"scatterternary\",\"marker\":{\"colorbar\":{\"outlinewidth\":0,\"ticks\":\"\"}}}],\"scattercarpet\":[{\"type\":\"scattercarpet\",\"marker\":{\"colorbar\":{\"outlinewidth\":0,\"ticks\":\"\"}}}],\"carpet\":[{\"aaxis\":{\"endlinecolor\":\"#2a3f5f\",\"gridcolor\":\"white\",\"linecolor\":\"white\",\"minorgridcolor\":\"white\",\"startlinecolor\":\"#2a3f5f\"},\"baxis\":{\"endlinecolor\":\"#2a3f5f\",\"gridcolor\":\"white\",\"linecolor\":\"white\",\"minorgridcolor\":\"white\",\"startlinecolor\":\"#2a3f5f\"},\"type\":\"carpet\"}],\"table\":[{\"cells\":{\"fill\":{\"color\":\"#EBF0F8\"},\"line\":{\"color\":\"white\"}},\"header\":{\"fill\":{\"color\":\"#C8D4E3\"},\"line\":{\"color\":\"white\"}},\"type\":\"table\"}],\"barpolar\":[{\"marker\":{\"line\":{\"color\":\"#E5ECF6\",\"width\":0.5},\"pattern\":{\"fillmode\":\"overlay\",\"size\":10,\"solidity\":0.2}},\"type\":\"barpolar\"}],\"pie\":[{\"automargin\":true,\"type\":\"pie\"}]},\"layout\":{\"autotypenumbers\":\"strict\",\"colorway\":[\"#636efa\",\"#EF553B\",\"#00cc96\",\"#ab63fa\",\"#FFA15A\",\"#19d3f3\",\"#FF6692\",\"#B6E880\",\"#FF97FF\",\"#FECB52\"],\"font\":{\"color\":\"#2a3f5f\"},\"hovermode\":\"closest\",\"hoverlabel\":{\"align\":\"left\"},\"paper_bgcolor\":\"white\",\"plot_bgcolor\":\"#E5ECF6\",\"polar\":{\"bgcolor\":\"#E5ECF6\",\"angularaxis\":{\"gridcolor\":\"white\",\"linecolor\":\"white\",\"ticks\":\"\"},\"radialaxis\":{\"gridcolor\":\"white\",\"linecolor\":\"white\",\"ticks\":\"\"}},\"ternary\":{\"bgcolor\":\"#E5ECF6\",\"aaxis\":{\"gridcolor\":\"white\",\"linecolor\":\"white\",\"ticks\":\"\"},\"baxis\":{\"gridcolor\":\"white\",\"linecolor\":\"white\",\"ticks\":\"\"},\"caxis\":{\"gridcolor\":\"white\",\"linecolor\":\"white\",\"ticks\":\"\"}},\"coloraxis\":{\"colorbar\":{\"outlinewidth\":0,\"ticks\":\"\"}},\"colorscale\":{\"sequential\":[[0.0,\"#0d0887\"],[0.1111111111111111,\"#46039f\"],[0.2222222222222222,\"#7201a8\"],[0.3333333333333333,\"#9c179e\"],[0.4444444444444444,\"#bd3786\"],[0.5555555555555556,\"#d8576b\"],[0.6666666666666666,\"#ed7953\"],[0.7777777777777778,\"#fb9f3a\"],[0.8888888888888888,\"#fdca26\"],[1.0,\"#f0f921\"]],\"sequentialminus\":[[0.0,\"#0d0887\"],[0.1111111111111111,\"#46039f\"],[0.2222222222222222,\"#7201a8\"],[0.3333333333333333,\"#9c179e\"],[0.4444444444444444,\"#bd3786\"],[0.5555555555555556,\"#d8576b\"],[0.6666666666666666,\"#ed7953\"],[0.7777777777777778,\"#fb9f3a\"],[0.8888888888888888,\"#fdca26\"],[1.0,\"#f0f921\"]],\"diverging\":[[0,\"#8e0152\"],[0.1,\"#c51b7d\"],[0.2,\"#de77ae\"],[0.3,\"#f1b6da\"],[0.4,\"#fde0ef\"],[0.5,\"#f7f7f7\"],[0.6,\"#e6f5d0\"],[0.7,\"#b8e186\"],[0.8,\"#7fbc41\"],[0.9,\"#4d9221\"],[1,\"#276419\"]]},\"xaxis\":{\"gridcolor\":\"white\",\"linecolor\":\"white\",\"ticks\":\"\",\"title\":{\"standoff\":15},\"zerolinecolor\":\"white\",\"automargin\":true,\"zerolinewidth\":2},\"yaxis\":{\"gridcolor\":\"white\",\"linecolor\":\"white\",\"ticks\":\"\",\"title\":{\"standoff\":15},\"zerolinecolor\":\"white\",\"automargin\":true,\"zerolinewidth\":2},\"scene\":{\"xaxis\":{\"backgroundcolor\":\"#E5ECF6\",\"gridcolor\":\"white\",\"linecolor\":\"white\",\"showbackground\":true,\"ticks\":\"\",\"zerolinecolor\":\"white\",\"gridwidth\":2},\"yaxis\":{\"backgroundcolor\":\"#E5ECF6\",\"gridcolor\":\"white\",\"linecolor\":\"white\",\"showbackground\":true,\"ticks\":\"\",\"zerolinecolor\":\"white\",\"gridwidth\":2},\"zaxis\":{\"backgroundcolor\":\"#E5ECF6\",\"gridcolor\":\"white\",\"linecolor\":\"white\",\"showbackground\":true,\"ticks\":\"\",\"zerolinecolor\":\"white\",\"gridwidth\":2}},\"shapedefaults\":{\"line\":{\"color\":\"#2a3f5f\"}},\"annotationdefaults\":{\"arrowcolor\":\"#2a3f5f\",\"arrowhead\":0,\"arrowwidth\":1},\"geo\":{\"bgcolor\":\"white\",\"landcolor\":\"#E5ECF6\",\"subunitcolor\":\"white\",\"showland\":true,\"showlakes\":true,\"lakecolor\":\"white\"},\"title\":{\"x\":0.05},\"mapbox\":{\"style\":\"light\"}}},\"xaxis\":{\"anchor\":\"y\",\"domain\":[0.0,1.0],\"title\":{\"text\":\"Month\"}},\"yaxis\":{\"anchor\":\"x\",\"domain\":[0.0,1.0],\"title\":{\"text\":\"VALUE\"},\"tickformat\":\",.0f\"},\"legend\":{\"tracegroupgap\":0},\"title\":{\"text\":\"Time Series of VALUE\"}},                        {\"responsive\": true}                    ).then(function(){\n",
       "                            \n",
       "var gd = document.getElementById('889b7192-cb83-4f4c-976f-cde3828efa84');\n",
       "var x = new MutationObserver(function (mutations, observer) {{\n",
       "        var display = window.getComputedStyle(gd).display;\n",
       "        if (!display || display === 'none') {{\n",
       "            console.log([gd, 'removed!']);\n",
       "            Plotly.purge(gd);\n",
       "            observer.disconnect();\n",
       "        }}\n",
       "}});\n",
       "\n",
       "// Listen for the removal of the full notebook cells\n",
       "var notebookContainer = gd.closest('#notebook-container');\n",
       "if (notebookContainer) {{\n",
       "    x.observe(notebookContainer, {childList: true});\n",
       "}}\n",
       "\n",
       "// Listen for the clearing of the current output cell\n",
       "var outputEl = gd.closest('.output');\n",
       "if (outputEl) {{\n",
       "    x.observe(outputEl, {childList: true});\n",
       "}}\n",
       "\n",
       "                        })                };                });            </script>        </div>"
      ]
     },
     "metadata": {},
     "output_type": "display_data"
    }
   ],
   "source": [
    "import plotly.express as px\n",
    "\n",
    "# Convert Spark DataFrame to Pandas DataFrame\n",
    "def draw_plot(dataset):\n",
    "    pandas_df = dataset.toPandas()\n",
    "\n",
    "    # Create an interactive line plot\n",
    "    fig = px.line(pandas_df, x='Month', y='VALUE', title='Time Series of VALUE',\n",
    "                  labels={'Month': 'Month', 'VALUE': 'VALUE'})\n",
    "\n",
    "    # Show just the values of the \"VALUE\" column\n",
    "    fig.update_traces(mode='markers+lines', line=dict(color='blue', width=2))\n",
    "\n",
    "    # Disable engineering notation for y-axis tick labels\n",
    "    fig.update_yaxes(tickformat=',.0f')  # This format will display integer values without any decimal places\n",
    "\n",
    "    # Show the plot\n",
    "    fig.show()\n",
    "\n",
    "# showing american dataset\n",
    "draw_plot(result_df)"
   ]
  },
  {
   "cell_type": "code",
   "execution_count": 59,
   "id": "6cd5fe44",
   "metadata": {},
   "outputs": [
    {
     "name": "stderr",
     "output_type": "stream",
     "text": [
      "\r",
      "[Stage 50:=============================>                            (1 + 1) / 2]\r",
      "\r",
      "                                                                                \r"
     ]
    },
    {
     "data": {
      "application/vnd.plotly.v1+json": {
       "config": {
        "plotlyServerURL": "https://plot.ly"
       },
       "data": [
        {
         "hovertemplate": "Month=%{x}<br>VALUE=%{y}<extra></extra>",
         "legendgroup": "",
         "line": {
          "color": "blue",
          "dash": "solid",
          "width": 2
         },
         "marker": {
          "symbol": "circle"
         },
         "mode": "markers+lines",
         "name": "",
         "orientation": "v",
         "showlegend": false,
         "type": "scatter",
         "x": [
          "2015 January",
          "2015 February",
          "2015 March",
          "2015 April",
          "2015 May",
          "2015 June",
          "2015 July",
          "2015 August",
          "2015 September",
          "2015 October",
          "2015 November",
          "2015 December",
          "2016 January",
          "2016 February",
          "2016 March",
          "2016 April",
          "2016 May",
          "2016 June",
          "2016 July",
          "2016 August",
          "2016 September",
          "2016 October",
          "2016 November",
          "2016 December",
          "2017 January",
          "2017 February",
          "2017 March",
          "2017 April",
          "2017 May",
          "2017 June",
          "2017 July",
          "2017 August",
          "2017 September",
          "2017 October",
          "2017 November",
          "2017 December",
          "2018 January",
          "2018 February",
          "2018 March",
          "2018 April",
          "2018 May",
          "2018 June",
          "2018 July",
          "2018 August",
          "2018 September",
          "2018 October",
          "2018 November",
          "2018 December",
          "2019 January",
          "2019 February",
          "2019 March",
          "2019 April",
          "2019 May",
          "2019 June",
          "2019 July",
          "2019 August",
          "2019 September",
          "2019 October",
          "2019 November",
          "2019 December",
          "2020 January",
          "2020 February",
          "2020 March",
          "2020 April",
          "2020 May",
          "2020 June",
          "2020 July",
          "2020 August",
          "2020 September",
          "2020 October",
          "2020 November",
          "2020 December",
          "2021 January",
          "2021 February",
          "2021 March",
          "2021 April",
          "2021 May",
          "2021 June",
          "2021 July",
          "2021 August",
          "2021 September",
          "2021 October",
          "2021 November",
          "2021 December",
          "2022 January",
          "2022 February",
          "2022 March",
          "2022 April",
          "2022 May",
          "2022 June",
          "2022 July",
          "2022 August",
          "2022 September",
          "2022 October",
          "2022 November",
          "2022 December",
          "2023 January",
          "2023 February",
          "2023 March",
          "2023 April",
          "2023 May",
          "2023 June",
          "2023 July",
          "2023 August",
          "2023 September",
          "2023 October",
          "2023 November",
          "2023 December",
          "2024 January",
          "2015 January",
          "2015 February",
          "2015 March",
          "2015 April",
          "2015 May",
          "2015 June",
          "2015 July",
          "2015 August",
          "2015 September",
          "2015 October",
          "2015 November",
          "2015 December",
          "2016 January",
          "2016 February",
          "2016 March",
          "2016 April",
          "2016 May",
          "2016 June",
          "2016 July",
          "2016 August",
          "2016 September",
          "2016 October",
          "2016 November",
          "2016 December",
          "2017 January",
          "2017 February",
          "2017 March",
          "2017 April",
          "2017 May",
          "2017 June",
          "2017 July",
          "2017 August",
          "2017 September",
          "2017 October",
          "2017 November",
          "2017 December",
          "2018 January",
          "2018 February",
          "2018 March",
          "2018 April",
          "2018 May",
          "2018 June",
          "2018 July",
          "2018 August",
          "2018 September",
          "2018 October",
          "2018 November",
          "2018 December",
          "2019 January",
          "2019 February",
          "2019 March",
          "2019 April",
          "2019 May",
          "2019 June",
          "2019 July",
          "2019 August",
          "2019 September",
          "2019 October",
          "2019 November",
          "2019 December",
          "2020 January",
          "2020 February",
          "2020 March",
          "2020 April",
          "2020 May",
          "2020 June",
          "2020 July",
          "2020 August",
          "2020 September",
          "2020 October",
          "2020 November",
          "2020 December",
          "2021 January",
          "2021 February",
          "2021 March",
          "2021 April",
          "2021 May",
          "2021 June",
          "2021 July",
          "2021 August",
          "2021 September",
          "2021 October",
          "2021 November",
          "2021 December",
          "2022 January",
          "2022 February",
          "2022 March",
          "2022 April",
          "2022 May",
          "2022 June",
          "2022 July",
          "2022 August",
          "2022 September",
          "2022 October",
          "2022 November",
          "2022 December",
          "2023 January",
          "2023 February",
          "2023 March",
          "2023 April",
          "2023 May",
          "2023 June",
          "2023 July",
          "2023 August",
          "2023 September",
          "2023 October",
          "2023 November",
          "2023 December",
          "2024 January"
         ],
         "xaxis": "x",
         "y": [
          16636,
          18627,
          20372,
          22223,
          21127,
          18658,
          22190,
          17963,
          17880,
          21854,
          22647,
          23890,
          14385,
          17877,
          23122,
          18330,
          20662,
          23567,
          16832,
          25338,
          25539,
          18583,
          19381,
          16053,
          16501,
          18361,
          24579,
          19756,
          25798,
          27200,
          25899,
          22749,
          19415,
          28781,
          21420,
          16309,
          17509,
          22702,
          23411,
          20506,
          24064,
          23912,
          21194,
          20421,
          21154,
          25246,
          34251,
          19061,
          23638,
          26257,
          34689,
          28783,
          25502,
          23945,
          25438,
          21585,
          28506,
          27088,
          24798,
          21900,
          22695,
          17453,
          25681,
          24704,
          19893,
          30579,
          34001,
          18396,
          24901,
          26693,
          23989,
          30610,
          9664,
          14096,
          23494,
          23002,
          26444,
          19351,
          21176,
          19594,
          20834,
          27150,
          21910,
          29007,
          17473,
          19059,
          25923,
          26211,
          25276,
          22279,
          22535,
          20319,
          26885,
          23887,
          26938,
          28791,
          22485,
          21032,
          25661,
          21440,
          30562,
          25276,
          20271,
          25118,
          38659,
          23044,
          26117,
          18040,
          23396,
          21605,
          21540,
          26283,
          27424,
          27852,
          28475,
          29746,
          26291,
          25645,
          25346,
          27638,
          27121,
          18293,
          21642,
          25461,
          23234,
          26878,
          25044,
          26604,
          23737,
          25274,
          21693,
          27529,
          25554,
          18418,
          21483,
          28440,
          25241,
          26369,
          29387,
          22673,
          24538,
          23556,
          24121,
          23792,
          22480,
          19096,
          21732,
          27987,
          21825,
          29108,
          26968,
          26157,
          26898,
          22814,
          22036,
          26952,
          21820,
          8124,
          8806,
          12142,
          8127,
          7967,
          7038,
          8750,
          6949,
          22421,
          25109,
          20403,
          19238,
          7455,
          16885,
          11545,
          7155,
          8352,
          7951,
          9346,
          9572,
          19187,
          17399,
          20901,
          31370,
          19587,
          21799,
          30890,
          27841,
          27137,
          31039,
          34849,
          29280,
          31257,
          31910,
          33037,
          25589,
          25084,
          29649,
          30297,
          31963,
          39012,
          38709,
          36700,
          33238,
          30540,
          27840,
          31889,
          25952,
          32080,
          35367,
          42119,
          28536,
          34711,
          41255,
          33160,
          28186,
          30883,
          28974,
          31480,
          24492,
          22400
         ],
         "yaxis": "y"
        }
       ],
       "layout": {
        "legend": {
         "tracegroupgap": 0
        },
        "template": {
         "data": {
          "bar": [
           {
            "error_x": {
             "color": "#2a3f5f"
            },
            "error_y": {
             "color": "#2a3f5f"
            },
            "marker": {
             "line": {
              "color": "#E5ECF6",
              "width": 0.5
             },
             "pattern": {
              "fillmode": "overlay",
              "size": 10,
              "solidity": 0.2
             }
            },
            "type": "bar"
           }
          ],
          "barpolar": [
           {
            "marker": {
             "line": {
              "color": "#E5ECF6",
              "width": 0.5
             },
             "pattern": {
              "fillmode": "overlay",
              "size": 10,
              "solidity": 0.2
             }
            },
            "type": "barpolar"
           }
          ],
          "carpet": [
           {
            "aaxis": {
             "endlinecolor": "#2a3f5f",
             "gridcolor": "white",
             "linecolor": "white",
             "minorgridcolor": "white",
             "startlinecolor": "#2a3f5f"
            },
            "baxis": {
             "endlinecolor": "#2a3f5f",
             "gridcolor": "white",
             "linecolor": "white",
             "minorgridcolor": "white",
             "startlinecolor": "#2a3f5f"
            },
            "type": "carpet"
           }
          ],
          "choropleth": [
           {
            "colorbar": {
             "outlinewidth": 0,
             "ticks": ""
            },
            "type": "choropleth"
           }
          ],
          "contour": [
           {
            "colorbar": {
             "outlinewidth": 0,
             "ticks": ""
            },
            "colorscale": [
             [
              0,
              "#0d0887"
             ],
             [
              0.1111111111111111,
              "#46039f"
             ],
             [
              0.2222222222222222,
              "#7201a8"
             ],
             [
              0.3333333333333333,
              "#9c179e"
             ],
             [
              0.4444444444444444,
              "#bd3786"
             ],
             [
              0.5555555555555556,
              "#d8576b"
             ],
             [
              0.6666666666666666,
              "#ed7953"
             ],
             [
              0.7777777777777778,
              "#fb9f3a"
             ],
             [
              0.8888888888888888,
              "#fdca26"
             ],
             [
              1,
              "#f0f921"
             ]
            ],
            "type": "contour"
           }
          ],
          "contourcarpet": [
           {
            "colorbar": {
             "outlinewidth": 0,
             "ticks": ""
            },
            "type": "contourcarpet"
           }
          ],
          "heatmap": [
           {
            "colorbar": {
             "outlinewidth": 0,
             "ticks": ""
            },
            "colorscale": [
             [
              0,
              "#0d0887"
             ],
             [
              0.1111111111111111,
              "#46039f"
             ],
             [
              0.2222222222222222,
              "#7201a8"
             ],
             [
              0.3333333333333333,
              "#9c179e"
             ],
             [
              0.4444444444444444,
              "#bd3786"
             ],
             [
              0.5555555555555556,
              "#d8576b"
             ],
             [
              0.6666666666666666,
              "#ed7953"
             ],
             [
              0.7777777777777778,
              "#fb9f3a"
             ],
             [
              0.8888888888888888,
              "#fdca26"
             ],
             [
              1,
              "#f0f921"
             ]
            ],
            "type": "heatmap"
           }
          ],
          "heatmapgl": [
           {
            "colorbar": {
             "outlinewidth": 0,
             "ticks": ""
            },
            "colorscale": [
             [
              0,
              "#0d0887"
             ],
             [
              0.1111111111111111,
              "#46039f"
             ],
             [
              0.2222222222222222,
              "#7201a8"
             ],
             [
              0.3333333333333333,
              "#9c179e"
             ],
             [
              0.4444444444444444,
              "#bd3786"
             ],
             [
              0.5555555555555556,
              "#d8576b"
             ],
             [
              0.6666666666666666,
              "#ed7953"
             ],
             [
              0.7777777777777778,
              "#fb9f3a"
             ],
             [
              0.8888888888888888,
              "#fdca26"
             ],
             [
              1,
              "#f0f921"
             ]
            ],
            "type": "heatmapgl"
           }
          ],
          "histogram": [
           {
            "marker": {
             "pattern": {
              "fillmode": "overlay",
              "size": 10,
              "solidity": 0.2
             }
            },
            "type": "histogram"
           }
          ],
          "histogram2d": [
           {
            "colorbar": {
             "outlinewidth": 0,
             "ticks": ""
            },
            "colorscale": [
             [
              0,
              "#0d0887"
             ],
             [
              0.1111111111111111,
              "#46039f"
             ],
             [
              0.2222222222222222,
              "#7201a8"
             ],
             [
              0.3333333333333333,
              "#9c179e"
             ],
             [
              0.4444444444444444,
              "#bd3786"
             ],
             [
              0.5555555555555556,
              "#d8576b"
             ],
             [
              0.6666666666666666,
              "#ed7953"
             ],
             [
              0.7777777777777778,
              "#fb9f3a"
             ],
             [
              0.8888888888888888,
              "#fdca26"
             ],
             [
              1,
              "#f0f921"
             ]
            ],
            "type": "histogram2d"
           }
          ],
          "histogram2dcontour": [
           {
            "colorbar": {
             "outlinewidth": 0,
             "ticks": ""
            },
            "colorscale": [
             [
              0,
              "#0d0887"
             ],
             [
              0.1111111111111111,
              "#46039f"
             ],
             [
              0.2222222222222222,
              "#7201a8"
             ],
             [
              0.3333333333333333,
              "#9c179e"
             ],
             [
              0.4444444444444444,
              "#bd3786"
             ],
             [
              0.5555555555555556,
              "#d8576b"
             ],
             [
              0.6666666666666666,
              "#ed7953"
             ],
             [
              0.7777777777777778,
              "#fb9f3a"
             ],
             [
              0.8888888888888888,
              "#fdca26"
             ],
             [
              1,
              "#f0f921"
             ]
            ],
            "type": "histogram2dcontour"
           }
          ],
          "mesh3d": [
           {
            "colorbar": {
             "outlinewidth": 0,
             "ticks": ""
            },
            "type": "mesh3d"
           }
          ],
          "parcoords": [
           {
            "line": {
             "colorbar": {
              "outlinewidth": 0,
              "ticks": ""
             }
            },
            "type": "parcoords"
           }
          ],
          "pie": [
           {
            "automargin": true,
            "type": "pie"
           }
          ],
          "scatter": [
           {
            "fillpattern": {
             "fillmode": "overlay",
             "size": 10,
             "solidity": 0.2
            },
            "type": "scatter"
           }
          ],
          "scatter3d": [
           {
            "line": {
             "colorbar": {
              "outlinewidth": 0,
              "ticks": ""
             }
            },
            "marker": {
             "colorbar": {
              "outlinewidth": 0,
              "ticks": ""
             }
            },
            "type": "scatter3d"
           }
          ],
          "scattercarpet": [
           {
            "marker": {
             "colorbar": {
              "outlinewidth": 0,
              "ticks": ""
             }
            },
            "type": "scattercarpet"
           }
          ],
          "scattergeo": [
           {
            "marker": {
             "colorbar": {
              "outlinewidth": 0,
              "ticks": ""
             }
            },
            "type": "scattergeo"
           }
          ],
          "scattergl": [
           {
            "marker": {
             "colorbar": {
              "outlinewidth": 0,
              "ticks": ""
             }
            },
            "type": "scattergl"
           }
          ],
          "scattermapbox": [
           {
            "marker": {
             "colorbar": {
              "outlinewidth": 0,
              "ticks": ""
             }
            },
            "type": "scattermapbox"
           }
          ],
          "scatterpolar": [
           {
            "marker": {
             "colorbar": {
              "outlinewidth": 0,
              "ticks": ""
             }
            },
            "type": "scatterpolar"
           }
          ],
          "scatterpolargl": [
           {
            "marker": {
             "colorbar": {
              "outlinewidth": 0,
              "ticks": ""
             }
            },
            "type": "scatterpolargl"
           }
          ],
          "scatterternary": [
           {
            "marker": {
             "colorbar": {
              "outlinewidth": 0,
              "ticks": ""
             }
            },
            "type": "scatterternary"
           }
          ],
          "surface": [
           {
            "colorbar": {
             "outlinewidth": 0,
             "ticks": ""
            },
            "colorscale": [
             [
              0,
              "#0d0887"
             ],
             [
              0.1111111111111111,
              "#46039f"
             ],
             [
              0.2222222222222222,
              "#7201a8"
             ],
             [
              0.3333333333333333,
              "#9c179e"
             ],
             [
              0.4444444444444444,
              "#bd3786"
             ],
             [
              0.5555555555555556,
              "#d8576b"
             ],
             [
              0.6666666666666666,
              "#ed7953"
             ],
             [
              0.7777777777777778,
              "#fb9f3a"
             ],
             [
              0.8888888888888888,
              "#fdca26"
             ],
             [
              1,
              "#f0f921"
             ]
            ],
            "type": "surface"
           }
          ],
          "table": [
           {
            "cells": {
             "fill": {
              "color": "#EBF0F8"
             },
             "line": {
              "color": "white"
             }
            },
            "header": {
             "fill": {
              "color": "#C8D4E3"
             },
             "line": {
              "color": "white"
             }
            },
            "type": "table"
           }
          ]
         },
         "layout": {
          "annotationdefaults": {
           "arrowcolor": "#2a3f5f",
           "arrowhead": 0,
           "arrowwidth": 1
          },
          "autotypenumbers": "strict",
          "coloraxis": {
           "colorbar": {
            "outlinewidth": 0,
            "ticks": ""
           }
          },
          "colorscale": {
           "diverging": [
            [
             0,
             "#8e0152"
            ],
            [
             0.1,
             "#c51b7d"
            ],
            [
             0.2,
             "#de77ae"
            ],
            [
             0.3,
             "#f1b6da"
            ],
            [
             0.4,
             "#fde0ef"
            ],
            [
             0.5,
             "#f7f7f7"
            ],
            [
             0.6,
             "#e6f5d0"
            ],
            [
             0.7,
             "#b8e186"
            ],
            [
             0.8,
             "#7fbc41"
            ],
            [
             0.9,
             "#4d9221"
            ],
            [
             1,
             "#276419"
            ]
           ],
           "sequential": [
            [
             0,
             "#0d0887"
            ],
            [
             0.1111111111111111,
             "#46039f"
            ],
            [
             0.2222222222222222,
             "#7201a8"
            ],
            [
             0.3333333333333333,
             "#9c179e"
            ],
            [
             0.4444444444444444,
             "#bd3786"
            ],
            [
             0.5555555555555556,
             "#d8576b"
            ],
            [
             0.6666666666666666,
             "#ed7953"
            ],
            [
             0.7777777777777778,
             "#fb9f3a"
            ],
            [
             0.8888888888888888,
             "#fdca26"
            ],
            [
             1,
             "#f0f921"
            ]
           ],
           "sequentialminus": [
            [
             0,
             "#0d0887"
            ],
            [
             0.1111111111111111,
             "#46039f"
            ],
            [
             0.2222222222222222,
             "#7201a8"
            ],
            [
             0.3333333333333333,
             "#9c179e"
            ],
            [
             0.4444444444444444,
             "#bd3786"
            ],
            [
             0.5555555555555556,
             "#d8576b"
            ],
            [
             0.6666666666666666,
             "#ed7953"
            ],
            [
             0.7777777777777778,
             "#fb9f3a"
            ],
            [
             0.8888888888888888,
             "#fdca26"
            ],
            [
             1,
             "#f0f921"
            ]
           ]
          },
          "colorway": [
           "#636efa",
           "#EF553B",
           "#00cc96",
           "#ab63fa",
           "#FFA15A",
           "#19d3f3",
           "#FF6692",
           "#B6E880",
           "#FF97FF",
           "#FECB52"
          ],
          "font": {
           "color": "#2a3f5f"
          },
          "geo": {
           "bgcolor": "white",
           "lakecolor": "white",
           "landcolor": "#E5ECF6",
           "showlakes": true,
           "showland": true,
           "subunitcolor": "white"
          },
          "hoverlabel": {
           "align": "left"
          },
          "hovermode": "closest",
          "mapbox": {
           "style": "light"
          },
          "paper_bgcolor": "white",
          "plot_bgcolor": "#E5ECF6",
          "polar": {
           "angularaxis": {
            "gridcolor": "white",
            "linecolor": "white",
            "ticks": ""
           },
           "bgcolor": "#E5ECF6",
           "radialaxis": {
            "gridcolor": "white",
            "linecolor": "white",
            "ticks": ""
           }
          },
          "scene": {
           "xaxis": {
            "backgroundcolor": "#E5ECF6",
            "gridcolor": "white",
            "gridwidth": 2,
            "linecolor": "white",
            "showbackground": true,
            "ticks": "",
            "zerolinecolor": "white"
           },
           "yaxis": {
            "backgroundcolor": "#E5ECF6",
            "gridcolor": "white",
            "gridwidth": 2,
            "linecolor": "white",
            "showbackground": true,
            "ticks": "",
            "zerolinecolor": "white"
           },
           "zaxis": {
            "backgroundcolor": "#E5ECF6",
            "gridcolor": "white",
            "gridwidth": 2,
            "linecolor": "white",
            "showbackground": true,
            "ticks": "",
            "zerolinecolor": "white"
           }
          },
          "shapedefaults": {
           "line": {
            "color": "#2a3f5f"
           }
          },
          "ternary": {
           "aaxis": {
            "gridcolor": "white",
            "linecolor": "white",
            "ticks": ""
           },
           "baxis": {
            "gridcolor": "white",
            "linecolor": "white",
            "ticks": ""
           },
           "bgcolor": "#E5ECF6",
           "caxis": {
            "gridcolor": "white",
            "linecolor": "white",
            "ticks": ""
           }
          },
          "title": {
           "x": 0.05
          },
          "xaxis": {
           "automargin": true,
           "gridcolor": "white",
           "linecolor": "white",
           "ticks": "",
           "title": {
            "standoff": 15
           },
           "zerolinecolor": "white",
           "zerolinewidth": 2
          },
          "yaxis": {
           "automargin": true,
           "gridcolor": "white",
           "linecolor": "white",
           "ticks": "",
           "title": {
            "standoff": 15
           },
           "zerolinecolor": "white",
           "zerolinewidth": 2
          }
         }
        },
        "title": {
         "text": "Time Series of VALUE"
        },
        "xaxis": {
         "anchor": "y",
         "domain": [
          0,
          1
         ],
         "title": {
          "text": "Month"
         }
        },
        "yaxis": {
         "anchor": "x",
         "domain": [
          0,
          1
         ],
         "tickformat": ",.0f",
         "title": {
          "text": "VALUE"
         }
        }
       }
      },
      "text/html": [
       "<div>                            <div id=\"b8eb7e4b-f85d-4182-bca7-decebaf67098\" class=\"plotly-graph-div\" style=\"height:525px; width:100%;\"></div>            <script type=\"text/javascript\">                require([\"plotly\"], function(Plotly) {                    window.PLOTLYENV=window.PLOTLYENV || {};                                    if (document.getElementById(\"b8eb7e4b-f85d-4182-bca7-decebaf67098\")) {                    Plotly.newPlot(                        \"b8eb7e4b-f85d-4182-bca7-decebaf67098\",                        [{\"hovertemplate\":\"Month=%{x}\\u003cbr\\u003eVALUE=%{y}\\u003cextra\\u003e\\u003c\\u002fextra\\u003e\",\"legendgroup\":\"\",\"line\":{\"color\":\"blue\",\"dash\":\"solid\",\"width\":2},\"marker\":{\"symbol\":\"circle\"},\"mode\":\"markers+lines\",\"name\":\"\",\"orientation\":\"v\",\"showlegend\":false,\"x\":[\"2015 January\",\"2015 February\",\"2015 March\",\"2015 April\",\"2015 May\",\"2015 June\",\"2015 July\",\"2015 August\",\"2015 September\",\"2015 October\",\"2015 November\",\"2015 December\",\"2016 January\",\"2016 February\",\"2016 March\",\"2016 April\",\"2016 May\",\"2016 June\",\"2016 July\",\"2016 August\",\"2016 September\",\"2016 October\",\"2016 November\",\"2016 December\",\"2017 January\",\"2017 February\",\"2017 March\",\"2017 April\",\"2017 May\",\"2017 June\",\"2017 July\",\"2017 August\",\"2017 September\",\"2017 October\",\"2017 November\",\"2017 December\",\"2018 January\",\"2018 February\",\"2018 March\",\"2018 April\",\"2018 May\",\"2018 June\",\"2018 July\",\"2018 August\",\"2018 September\",\"2018 October\",\"2018 November\",\"2018 December\",\"2019 January\",\"2019 February\",\"2019 March\",\"2019 April\",\"2019 May\",\"2019 June\",\"2019 July\",\"2019 August\",\"2019 September\",\"2019 October\",\"2019 November\",\"2019 December\",\"2020 January\",\"2020 February\",\"2020 March\",\"2020 April\",\"2020 May\",\"2020 June\",\"2020 July\",\"2020 August\",\"2020 September\",\"2020 October\",\"2020 November\",\"2020 December\",\"2021 January\",\"2021 February\",\"2021 March\",\"2021 April\",\"2021 May\",\"2021 June\",\"2021 July\",\"2021 August\",\"2021 September\",\"2021 October\",\"2021 November\",\"2021 December\",\"2022 January\",\"2022 February\",\"2022 March\",\"2022 April\",\"2022 May\",\"2022 June\",\"2022 July\",\"2022 August\",\"2022 September\",\"2022 October\",\"2022 November\",\"2022 December\",\"2023 January\",\"2023 February\",\"2023 March\",\"2023 April\",\"2023 May\",\"2023 June\",\"2023 July\",\"2023 August\",\"2023 September\",\"2023 October\",\"2023 November\",\"2023 December\",\"2024 January\",\"2015 January\",\"2015 February\",\"2015 March\",\"2015 April\",\"2015 May\",\"2015 June\",\"2015 July\",\"2015 August\",\"2015 September\",\"2015 October\",\"2015 November\",\"2015 December\",\"2016 January\",\"2016 February\",\"2016 March\",\"2016 April\",\"2016 May\",\"2016 June\",\"2016 July\",\"2016 August\",\"2016 September\",\"2016 October\",\"2016 November\",\"2016 December\",\"2017 January\",\"2017 February\",\"2017 March\",\"2017 April\",\"2017 May\",\"2017 June\",\"2017 July\",\"2017 August\",\"2017 September\",\"2017 October\",\"2017 November\",\"2017 December\",\"2018 January\",\"2018 February\",\"2018 March\",\"2018 April\",\"2018 May\",\"2018 June\",\"2018 July\",\"2018 August\",\"2018 September\",\"2018 October\",\"2018 November\",\"2018 December\",\"2019 January\",\"2019 February\",\"2019 March\",\"2019 April\",\"2019 May\",\"2019 June\",\"2019 July\",\"2019 August\",\"2019 September\",\"2019 October\",\"2019 November\",\"2019 December\",\"2020 January\",\"2020 February\",\"2020 March\",\"2020 April\",\"2020 May\",\"2020 June\",\"2020 July\",\"2020 August\",\"2020 September\",\"2020 October\",\"2020 November\",\"2020 December\",\"2021 January\",\"2021 February\",\"2021 March\",\"2021 April\",\"2021 May\",\"2021 June\",\"2021 July\",\"2021 August\",\"2021 September\",\"2021 October\",\"2021 November\",\"2021 December\",\"2022 January\",\"2022 February\",\"2022 March\",\"2022 April\",\"2022 May\",\"2022 June\",\"2022 July\",\"2022 August\",\"2022 September\",\"2022 October\",\"2022 November\",\"2022 December\",\"2023 January\",\"2023 February\",\"2023 March\",\"2023 April\",\"2023 May\",\"2023 June\",\"2023 July\",\"2023 August\",\"2023 September\",\"2023 October\",\"2023 November\",\"2023 December\",\"2024 January\"],\"xaxis\":\"x\",\"y\":[16636,18627,20372,22223,21127,18658,22190,17963,17880,21854,22647,23890,14385,17877,23122,18330,20662,23567,16832,25338,25539,18583,19381,16053,16501,18361,24579,19756,25798,27200,25899,22749,19415,28781,21420,16309,17509,22702,23411,20506,24064,23912,21194,20421,21154,25246,34251,19061,23638,26257,34689,28783,25502,23945,25438,21585,28506,27088,24798,21900,22695,17453,25681,24704,19893,30579,34001,18396,24901,26693,23989,30610,9664,14096,23494,23002,26444,19351,21176,19594,20834,27150,21910,29007,17473,19059,25923,26211,25276,22279,22535,20319,26885,23887,26938,28791,22485,21032,25661,21440,30562,25276,20271,25118,38659,23044,26117,18040,23396,21605,21540,26283,27424,27852,28475,29746,26291,25645,25346,27638,27121,18293,21642,25461,23234,26878,25044,26604,23737,25274,21693,27529,25554,18418,21483,28440,25241,26369,29387,22673,24538,23556,24121,23792,22480,19096,21732,27987,21825,29108,26968,26157,26898,22814,22036,26952,21820,8124,8806,12142,8127,7967,7038,8750,6949,22421,25109,20403,19238,7455,16885,11545,7155,8352,7951,9346,9572,19187,17399,20901,31370,19587,21799,30890,27841,27137,31039,34849,29280,31257,31910,33037,25589,25084,29649,30297,31963,39012,38709,36700,33238,30540,27840,31889,25952,32080,35367,42119,28536,34711,41255,33160,28186,30883,28974,31480,24492,22400],\"yaxis\":\"y\",\"type\":\"scatter\"}],                        {\"template\":{\"data\":{\"histogram2dcontour\":[{\"type\":\"histogram2dcontour\",\"colorbar\":{\"outlinewidth\":0,\"ticks\":\"\"},\"colorscale\":[[0.0,\"#0d0887\"],[0.1111111111111111,\"#46039f\"],[0.2222222222222222,\"#7201a8\"],[0.3333333333333333,\"#9c179e\"],[0.4444444444444444,\"#bd3786\"],[0.5555555555555556,\"#d8576b\"],[0.6666666666666666,\"#ed7953\"],[0.7777777777777778,\"#fb9f3a\"],[0.8888888888888888,\"#fdca26\"],[1.0,\"#f0f921\"]]}],\"choropleth\":[{\"type\":\"choropleth\",\"colorbar\":{\"outlinewidth\":0,\"ticks\":\"\"}}],\"histogram2d\":[{\"type\":\"histogram2d\",\"colorbar\":{\"outlinewidth\":0,\"ticks\":\"\"},\"colorscale\":[[0.0,\"#0d0887\"],[0.1111111111111111,\"#46039f\"],[0.2222222222222222,\"#7201a8\"],[0.3333333333333333,\"#9c179e\"],[0.4444444444444444,\"#bd3786\"],[0.5555555555555556,\"#d8576b\"],[0.6666666666666666,\"#ed7953\"],[0.7777777777777778,\"#fb9f3a\"],[0.8888888888888888,\"#fdca26\"],[1.0,\"#f0f921\"]]}],\"heatmap\":[{\"type\":\"heatmap\",\"colorbar\":{\"outlinewidth\":0,\"ticks\":\"\"},\"colorscale\":[[0.0,\"#0d0887\"],[0.1111111111111111,\"#46039f\"],[0.2222222222222222,\"#7201a8\"],[0.3333333333333333,\"#9c179e\"],[0.4444444444444444,\"#bd3786\"],[0.5555555555555556,\"#d8576b\"],[0.6666666666666666,\"#ed7953\"],[0.7777777777777778,\"#fb9f3a\"],[0.8888888888888888,\"#fdca26\"],[1.0,\"#f0f921\"]]}],\"heatmapgl\":[{\"type\":\"heatmapgl\",\"colorbar\":{\"outlinewidth\":0,\"ticks\":\"\"},\"colorscale\":[[0.0,\"#0d0887\"],[0.1111111111111111,\"#46039f\"],[0.2222222222222222,\"#7201a8\"],[0.3333333333333333,\"#9c179e\"],[0.4444444444444444,\"#bd3786\"],[0.5555555555555556,\"#d8576b\"],[0.6666666666666666,\"#ed7953\"],[0.7777777777777778,\"#fb9f3a\"],[0.8888888888888888,\"#fdca26\"],[1.0,\"#f0f921\"]]}],\"contourcarpet\":[{\"type\":\"contourcarpet\",\"colorbar\":{\"outlinewidth\":0,\"ticks\":\"\"}}],\"contour\":[{\"type\":\"contour\",\"colorbar\":{\"outlinewidth\":0,\"ticks\":\"\"},\"colorscale\":[[0.0,\"#0d0887\"],[0.1111111111111111,\"#46039f\"],[0.2222222222222222,\"#7201a8\"],[0.3333333333333333,\"#9c179e\"],[0.4444444444444444,\"#bd3786\"],[0.5555555555555556,\"#d8576b\"],[0.6666666666666666,\"#ed7953\"],[0.7777777777777778,\"#fb9f3a\"],[0.8888888888888888,\"#fdca26\"],[1.0,\"#f0f921\"]]}],\"surface\":[{\"type\":\"surface\",\"colorbar\":{\"outlinewidth\":0,\"ticks\":\"\"},\"colorscale\":[[0.0,\"#0d0887\"],[0.1111111111111111,\"#46039f\"],[0.2222222222222222,\"#7201a8\"],[0.3333333333333333,\"#9c179e\"],[0.4444444444444444,\"#bd3786\"],[0.5555555555555556,\"#d8576b\"],[0.6666666666666666,\"#ed7953\"],[0.7777777777777778,\"#fb9f3a\"],[0.8888888888888888,\"#fdca26\"],[1.0,\"#f0f921\"]]}],\"mesh3d\":[{\"type\":\"mesh3d\",\"colorbar\":{\"outlinewidth\":0,\"ticks\":\"\"}}],\"scatter\":[{\"fillpattern\":{\"fillmode\":\"overlay\",\"size\":10,\"solidity\":0.2},\"type\":\"scatter\"}],\"parcoords\":[{\"type\":\"parcoords\",\"line\":{\"colorbar\":{\"outlinewidth\":0,\"ticks\":\"\"}}}],\"scatterpolargl\":[{\"type\":\"scatterpolargl\",\"marker\":{\"colorbar\":{\"outlinewidth\":0,\"ticks\":\"\"}}}],\"bar\":[{\"error_x\":{\"color\":\"#2a3f5f\"},\"error_y\":{\"color\":\"#2a3f5f\"},\"marker\":{\"line\":{\"color\":\"#E5ECF6\",\"width\":0.5},\"pattern\":{\"fillmode\":\"overlay\",\"size\":10,\"solidity\":0.2}},\"type\":\"bar\"}],\"scattergeo\":[{\"type\":\"scattergeo\",\"marker\":{\"colorbar\":{\"outlinewidth\":0,\"ticks\":\"\"}}}],\"scatterpolar\":[{\"type\":\"scatterpolar\",\"marker\":{\"colorbar\":{\"outlinewidth\":0,\"ticks\":\"\"}}}],\"histogram\":[{\"marker\":{\"pattern\":{\"fillmode\":\"overlay\",\"size\":10,\"solidity\":0.2}},\"type\":\"histogram\"}],\"scattergl\":[{\"type\":\"scattergl\",\"marker\":{\"colorbar\":{\"outlinewidth\":0,\"ticks\":\"\"}}}],\"scatter3d\":[{\"type\":\"scatter3d\",\"line\":{\"colorbar\":{\"outlinewidth\":0,\"ticks\":\"\"}},\"marker\":{\"colorbar\":{\"outlinewidth\":0,\"ticks\":\"\"}}}],\"scattermapbox\":[{\"type\":\"scattermapbox\",\"marker\":{\"colorbar\":{\"outlinewidth\":0,\"ticks\":\"\"}}}],\"scatterternary\":[{\"type\":\"scatterternary\",\"marker\":{\"colorbar\":{\"outlinewidth\":0,\"ticks\":\"\"}}}],\"scattercarpet\":[{\"type\":\"scattercarpet\",\"marker\":{\"colorbar\":{\"outlinewidth\":0,\"ticks\":\"\"}}}],\"carpet\":[{\"aaxis\":{\"endlinecolor\":\"#2a3f5f\",\"gridcolor\":\"white\",\"linecolor\":\"white\",\"minorgridcolor\":\"white\",\"startlinecolor\":\"#2a3f5f\"},\"baxis\":{\"endlinecolor\":\"#2a3f5f\",\"gridcolor\":\"white\",\"linecolor\":\"white\",\"minorgridcolor\":\"white\",\"startlinecolor\":\"#2a3f5f\"},\"type\":\"carpet\"}],\"table\":[{\"cells\":{\"fill\":{\"color\":\"#EBF0F8\"},\"line\":{\"color\":\"white\"}},\"header\":{\"fill\":{\"color\":\"#C8D4E3\"},\"line\":{\"color\":\"white\"}},\"type\":\"table\"}],\"barpolar\":[{\"marker\":{\"line\":{\"color\":\"#E5ECF6\",\"width\":0.5},\"pattern\":{\"fillmode\":\"overlay\",\"size\":10,\"solidity\":0.2}},\"type\":\"barpolar\"}],\"pie\":[{\"automargin\":true,\"type\":\"pie\"}]},\"layout\":{\"autotypenumbers\":\"strict\",\"colorway\":[\"#636efa\",\"#EF553B\",\"#00cc96\",\"#ab63fa\",\"#FFA15A\",\"#19d3f3\",\"#FF6692\",\"#B6E880\",\"#FF97FF\",\"#FECB52\"],\"font\":{\"color\":\"#2a3f5f\"},\"hovermode\":\"closest\",\"hoverlabel\":{\"align\":\"left\"},\"paper_bgcolor\":\"white\",\"plot_bgcolor\":\"#E5ECF6\",\"polar\":{\"bgcolor\":\"#E5ECF6\",\"angularaxis\":{\"gridcolor\":\"white\",\"linecolor\":\"white\",\"ticks\":\"\"},\"radialaxis\":{\"gridcolor\":\"white\",\"linecolor\":\"white\",\"ticks\":\"\"}},\"ternary\":{\"bgcolor\":\"#E5ECF6\",\"aaxis\":{\"gridcolor\":\"white\",\"linecolor\":\"white\",\"ticks\":\"\"},\"baxis\":{\"gridcolor\":\"white\",\"linecolor\":\"white\",\"ticks\":\"\"},\"caxis\":{\"gridcolor\":\"white\",\"linecolor\":\"white\",\"ticks\":\"\"}},\"coloraxis\":{\"colorbar\":{\"outlinewidth\":0,\"ticks\":\"\"}},\"colorscale\":{\"sequential\":[[0.0,\"#0d0887\"],[0.1111111111111111,\"#46039f\"],[0.2222222222222222,\"#7201a8\"],[0.3333333333333333,\"#9c179e\"],[0.4444444444444444,\"#bd3786\"],[0.5555555555555556,\"#d8576b\"],[0.6666666666666666,\"#ed7953\"],[0.7777777777777778,\"#fb9f3a\"],[0.8888888888888888,\"#fdca26\"],[1.0,\"#f0f921\"]],\"sequentialminus\":[[0.0,\"#0d0887\"],[0.1111111111111111,\"#46039f\"],[0.2222222222222222,\"#7201a8\"],[0.3333333333333333,\"#9c179e\"],[0.4444444444444444,\"#bd3786\"],[0.5555555555555556,\"#d8576b\"],[0.6666666666666666,\"#ed7953\"],[0.7777777777777778,\"#fb9f3a\"],[0.8888888888888888,\"#fdca26\"],[1.0,\"#f0f921\"]],\"diverging\":[[0,\"#8e0152\"],[0.1,\"#c51b7d\"],[0.2,\"#de77ae\"],[0.3,\"#f1b6da\"],[0.4,\"#fde0ef\"],[0.5,\"#f7f7f7\"],[0.6,\"#e6f5d0\"],[0.7,\"#b8e186\"],[0.8,\"#7fbc41\"],[0.9,\"#4d9221\"],[1,\"#276419\"]]},\"xaxis\":{\"gridcolor\":\"white\",\"linecolor\":\"white\",\"ticks\":\"\",\"title\":{\"standoff\":15},\"zerolinecolor\":\"white\",\"automargin\":true,\"zerolinewidth\":2},\"yaxis\":{\"gridcolor\":\"white\",\"linecolor\":\"white\",\"ticks\":\"\",\"title\":{\"standoff\":15},\"zerolinecolor\":\"white\",\"automargin\":true,\"zerolinewidth\":2},\"scene\":{\"xaxis\":{\"backgroundcolor\":\"#E5ECF6\",\"gridcolor\":\"white\",\"linecolor\":\"white\",\"showbackground\":true,\"ticks\":\"\",\"zerolinecolor\":\"white\",\"gridwidth\":2},\"yaxis\":{\"backgroundcolor\":\"#E5ECF6\",\"gridcolor\":\"white\",\"linecolor\":\"white\",\"showbackground\":true,\"ticks\":\"\",\"zerolinecolor\":\"white\",\"gridwidth\":2},\"zaxis\":{\"backgroundcolor\":\"#E5ECF6\",\"gridcolor\":\"white\",\"linecolor\":\"white\",\"showbackground\":true,\"ticks\":\"\",\"zerolinecolor\":\"white\",\"gridwidth\":2}},\"shapedefaults\":{\"line\":{\"color\":\"#2a3f5f\"}},\"annotationdefaults\":{\"arrowcolor\":\"#2a3f5f\",\"arrowhead\":0,\"arrowwidth\":1},\"geo\":{\"bgcolor\":\"white\",\"landcolor\":\"#E5ECF6\",\"subunitcolor\":\"white\",\"showland\":true,\"showlakes\":true,\"lakecolor\":\"white\"},\"title\":{\"x\":0.05},\"mapbox\":{\"style\":\"light\"}}},\"xaxis\":{\"anchor\":\"y\",\"domain\":[0.0,1.0],\"title\":{\"text\":\"Month\"}},\"yaxis\":{\"anchor\":\"x\",\"domain\":[0.0,1.0],\"title\":{\"text\":\"VALUE\"},\"tickformat\":\",.0f\"},\"legend\":{\"tracegroupgap\":0},\"title\":{\"text\":\"Time Series of VALUE\"}},                        {\"responsive\": true}                    ).then(function(){\n",
       "                            \n",
       "var gd = document.getElementById('b8eb7e4b-f85d-4182-bca7-decebaf67098');\n",
       "var x = new MutationObserver(function (mutations, observer) {{\n",
       "        var display = window.getComputedStyle(gd).display;\n",
       "        if (!display || display === 'none') {{\n",
       "            console.log([gd, 'removed!']);\n",
       "            Plotly.purge(gd);\n",
       "            observer.disconnect();\n",
       "        }}\n",
       "}});\n",
       "\n",
       "// Listen for the removal of the full notebook cells\n",
       "var notebookContainer = gd.closest('#notebook-container');\n",
       "if (notebookContainer) {{\n",
       "    x.observe(notebookContainer, {childList: true});\n",
       "}}\n",
       "\n",
       "// Listen for the clearing of the current output cell\n",
       "var outputEl = gd.closest('.output');\n",
       "if (outputEl) {{\n",
       "    x.observe(outputEl, {childList: true});\n",
       "}}\n",
       "\n",
       "                        })                };                });            </script>        </div>"
      ]
     },
     "metadata": {},
     "output_type": "display_data"
    }
   ],
   "source": [
    "#showing british dataset\n",
    "draw_plot(result_df_gb)"
   ]
  },
  {
   "cell_type": "code",
   "execution_count": 60,
   "id": "f7f00065",
   "metadata": {},
   "outputs": [
    {
     "name": "stderr",
     "output_type": "stream",
     "text": [
      "                                                                                \r"
     ]
    },
    {
     "data": {
      "image/png": "[encoded data removed]",
      "text/plain": [
       "<Figure size 1000x600 with 1 Axes>"
      ]
     },
     "metadata": {},
     "output_type": "display_data"
    }
   ],
   "source": [
    "import matplotlib.pyplot as plt\n",
    "\n",
    "# Box plot of the column \"VALUE\"\n",
    "def show_box_plot(dataset):\n",
    "    values = dataset.select(\"VALUE\").rdd.flatMap(lambda x: x).collect()\n",
    "\n",
    "    # Plotting the box plot\n",
    "    plt.figure(figsize=(10, 6))\n",
    "    plt.boxplot(values)\n",
    "    plt.title('Box Plot of VALUE')\n",
    "    plt.ylabel('Value')\n",
    "    plt.xlabel('Month')\n",
    "    plt.show()\n",
    "    \n",
    "#box plot of american dataset\n",
    "show_box_plot(result_df)"
   ]
  },
  {
   "cell_type": "code",
   "execution_count": 23,
   "id": "3c774b67",
   "metadata": {},
   "outputs": [
    {
     "name": "stderr",
     "output_type": "stream",
     "text": [
      "\r",
      "[Stage 19:>                                                         (0 + 2) / 2]\r",
      "\r",
      "[Stage 19:=============================>                            (1 + 1) / 2]\r"
     ]
    },
    {
     "name": "stdout",
     "output_type": "stream",
     "text": [
      "+-------+-----------------+\n",
      "|summary|            VALUE|\n",
      "+-------+-----------------+\n",
      "|  count|              218|\n",
      "|   mean|19562.72018348624|\n",
      "| stddev|6753.789771393583|\n",
      "|    min|             8398|\n",
      "|    max|            70713|\n",
      "+-------+-----------------+\n",
      "\n"
     ]
    },
    {
     "name": "stderr",
     "output_type": "stream",
     "text": [
      "\r",
      "                                                                                \r"
     ]
    }
   ],
   "source": [
    "# show statistics metrics\n",
    "result_df.describe(\"VALUE\").show()"
   ]
  },
  {
   "cell_type": "code",
   "execution_count": 61,
   "id": "970de8f4",
   "metadata": {},
   "outputs": [
    {
     "name": "stderr",
     "output_type": "stream",
     "text": [
      "                                                                                \r"
     ]
    },
    {
     "data": {
      "image/png": "[encoded data removed]",
      "text/plain": [
       "<Figure size 1000x600 with 1 Axes>"
      ]
     },
     "metadata": {},
     "output_type": "display_data"
    }
   ],
   "source": [
    "#box plot of american dataset\n",
    "show_box_plot(result_df_gb)"
   ]
  },
  {
   "cell_type": "code",
   "execution_count": 63,
   "id": "d181fc68",
   "metadata": {},
   "outputs": [
    {
     "name": "stderr",
     "output_type": "stream",
     "text": [
      "\r",
      "[Stage 53:>                                                         (0 + 2) / 2]\r"
     ]
    },
    {
     "name": "stdout",
     "output_type": "stream",
     "text": [
      "+-------+------------------+\n",
      "|summary|             VALUE|\n",
      "+-------+------------------+\n",
      "|  count|               218|\n",
      "|   mean|23618.261467889908|\n",
      "| stddev| 6509.325750332842|\n",
      "|    min|              6949|\n",
      "|    max|             42119|\n",
      "+-------+------------------+\n",
      "\n"
     ]
    },
    {
     "name": "stderr",
     "output_type": "stream",
     "text": [
      "\r",
      "                                                                                \r"
     ]
    }
   ],
   "source": [
    "# show statistics metrics of british dataset\n",
    "result_df_gb.describe(\"VALUE\").show()"
   ]
  },
  {
   "cell_type": "code",
   "execution_count": 24,
   "id": "1a331028",
   "metadata": {},
   "outputs": [],
   "source": [
    "#!pip install tensorflow\n",
    "# As tensorflow it got some troubles to installing because of the \"error: externally-managed-environment\"\n",
    "#another solution is the use of pytorch library"
   ]
  },
  {
   "cell_type": "code",
   "execution_count": 25,
   "id": "a0517855",
   "metadata": {},
   "outputs": [],
   "source": [
    "# check installed libraries\n",
    "#!pip list"
   ]
  },
  {
   "cell_type": "code",
   "execution_count": 26,
   "id": "0cc42ed0",
   "metadata": {},
   "outputs": [],
   "source": [
    "#!pip install torch"
   ]
  },
  {
   "cell_type": "code",
   "execution_count": 27,
   "id": "28c49f39",
   "metadata": {},
   "outputs": [
    {
     "name": "stdout",
     "output_type": "stream",
     "text": [
      "+-------------+--------------------+-----+\n",
      "|        Month|     Commodity group|VALUE|\n",
      "+-------------+--------------------+-----+\n",
      "| 2015 January|Chemical material...|11176|\n",
      "|2015 February|Chemical material...|12978|\n",
      "|   2015 March|Chemical material...|16084|\n",
      "|   2015 April|Chemical material...|13355|\n",
      "|     2015 May|Chemical material...|14691|\n",
      "+-------------+--------------------+-----+\n",
      "only showing top 5 rows\n",
      "\n"
     ]
    }
   ],
   "source": [
    "# Drop empty values in the \"VALUE\" column\n",
    "dropped_df = result_df.dropna(subset=['VALUE'])\n",
    "\n",
    "# Show the last 5 rows of the result DataFrame\n",
    "dropped_df.show(5)\n"
   ]
  },
  {
   "cell_type": "code",
   "execution_count": 28,
   "id": "acbd4c1e",
   "metadata": {},
   "outputs": [
    {
     "name": "stderr",
     "output_type": "stream",
     "text": [
      "\r",
      "[Stage 23:>                                                         (0 + 2) / 2]\r",
      "\r",
      "                                                                                \r"
     ]
    },
    {
     "data": {
      "text/plain": [
       "218"
      ]
     },
     "execution_count": 28,
     "metadata": {},
     "output_type": "execute_result"
    }
   ],
   "source": [
    "result_df.count()"
   ]
  },
  {
   "cell_type": "code",
   "execution_count": 30,
   "id": "9cf0280d",
   "metadata": {},
   "outputs": [],
   "source": [
    "# Import necessary libraries\n",
    "import numpy as np\n",
    "import torch\n",
    "import torch.nn as nn\n",
    "import torch.optim as optim\n",
    "from torch.utils.data import Dataset, DataLoader\n",
    "from sklearn.preprocessing import MinMaxScaler\n",
    "from pyspark.sql import SparkSession\n",
    "from pyspark.ml.feature import VectorAssembler\n",
    "\n",
    "\n",
    "# Vector Assembler to convert features to a single vector column\n",
    "vecAssembler = VectorAssembler(inputCols=[\"VALUE\"], outputCol=\"features\")\n",
    "df_new = vecAssembler.transform(result_df).select(\"features\")"
   ]
  },
  {
   "cell_type": "code",
   "execution_count": 31,
   "id": "ae135db2",
   "metadata": {},
   "outputs": [
    {
     "name": "stdout",
     "output_type": "stream",
     "text": [
      "DataFrame[features: vector]\n"
     ]
    }
   ],
   "source": [
    "print(df_new)"
   ]
  },
  {
   "cell_type": "code",
   "execution_count": 32,
   "id": "9e1929b6",
   "metadata": {},
   "outputs": [
    {
     "name": "stderr",
     "output_type": "stream",
     "text": [
      "                                                                                \r"
     ]
    }
   ],
   "source": [
    "# Convert Spark DataFrame to RDD and then to NumPy array\n",
    "data_array = np.array(df_new.rdd.map(lambda x: x.features[0]).collect())\n",
    "\n",
    "# Preprocess the data\n",
    "scaler = MinMaxScaler(feature_range=(0, 1))\n",
    "scaled_data = scaler.fit_transform(data_array.reshape(-1, 1))"
   ]
  },
  {
   "cell_type": "code",
   "execution_count": 33,
   "id": "0b4a4dfc",
   "metadata": {},
   "outputs": [],
   "source": [
    "# Define a function to create sequences for input/output\n",
    "def create_sequences(data, seq_length):\n",
    "    X, y = [], []\n",
    "    for i in range(len(data) - seq_length):\n",
    "        X.append(data[i:i+seq_length])\n",
    "        y.append(data[i+seq_length])\n",
    "    return np.array(X), np.array(y)"
   ]
  },
  {
   "cell_type": "code",
   "execution_count": 34,
   "id": "e9649405",
   "metadata": {},
   "outputs": [],
   "source": [
    "# Define sequence length and split data into training and testing sets\n",
    "sequence_length = 10\n",
    "train_size = int(len(scaled_data) * 0.8)\n",
    "test_size = len(scaled_data) - train_size\n",
    "train_data, test_data = scaled_data[0:train_size], scaled_data[train_size:len(scaled_data)]"
   ]
  },
  {
   "cell_type": "code",
   "execution_count": 35,
   "id": "b7843f0d",
   "metadata": {},
   "outputs": [],
   "source": [
    "# Create sequences for training and testing sets\n",
    "X_train, y_train = create_sequences(train_data, sequence_length)\n",
    "X_test, y_test = create_sequences(test_data, sequence_length)"
   ]
  },
  {
   "cell_type": "code",
   "execution_count": 36,
   "id": "a995e2ee",
   "metadata": {},
   "outputs": [],
   "source": [
    "# Convert data to PyTorch tensors\n",
    "X_train = torch.Tensor(X_train).unsqueeze(2)\n",
    "y_train = torch.Tensor(y_train)\n",
    "X_test = torch.Tensor(X_test).unsqueeze(2)\n",
    "y_test = torch.Tensor(y_test)"
   ]
  },
  {
   "cell_type": "code",
   "execution_count": 37,
   "id": "3aa218be",
   "metadata": {},
   "outputs": [],
   "source": [
    "# Define the LSTM model\n",
    "class LSTM(nn.Module):\n",
    "    def __init__(self, input_size=1, hidden_layer_size=100, output_size=1):\n",
    "        super().__init__()\n",
    "        self.hidden_layer_size = hidden_layer_size\n",
    "        self.lstm = nn.LSTM(input_size, hidden_layer_size)\n",
    "        self.linear = nn.Linear(hidden_layer_size, output_size)\n",
    "        self.hidden_cell = (torch.zeros(1,1,self.hidden_layer_size),\n",
    "                            torch.zeros(1,1,self.hidden_layer_size))\n",
    "\n",
    "    def forward(self, input_seq):\n",
    "        lstm_out, self.hidden_cell = self.lstm(input_seq.view(len(input_seq), 1, -1), self.hidden_cell)\n",
    "        predictions = self.linear(lstm_out.view(len(input_seq), -1))\n",
    "        return predictions[-1]"
   ]
  },
  {
   "cell_type": "code",
   "execution_count": 38,
   "id": "0f2afad7",
   "metadata": {},
   "outputs": [],
   "source": [
    "# Instantiate the model, define loss function and optimizer\n",
    "model = LSTM()\n",
    "loss_function = nn.MSELoss()\n",
    "optimizer = torch.optim.Adam(model.parameters(), lr=0.001)\n"
   ]
  },
  {
   "cell_type": "code",
   "execution_count": 39,
   "id": "f181158c",
   "metadata": {},
   "outputs": [
    {
     "name": "stdout",
     "output_type": "stream",
     "text": [
      "Epoch:   0 loss: 0.00010152\n",
      "Epoch:  25 loss: 0.00091692\n",
      "Epoch:  50 loss: 0.00009280\n",
      "Epoch:  75 loss: 0.02052079\n",
      "Epoch: 100 loss: 0.00448699\n",
      "Epoch: 125 loss: 0.00792912\n"
     ]
    }
   ],
   "source": [
    "# Train the model\n",
    "epochs = 150\n",
    "for i in range(epochs):\n",
    "    for seq, labels in zip(X_train, y_train):\n",
    "        optimizer.zero_grad()\n",
    "        model.hidden_cell = (torch.zeros(1, 1, model.hidden_layer_size),\n",
    "                        torch.zeros(1, 1, model.hidden_layer_size))\n",
    "\n",
    "        y_pred = model(seq)\n",
    "\n",
    "        single_loss = loss_function(y_pred, labels)\n",
    "        single_loss.backward()\n",
    "        optimizer.step()\n",
    "\n",
    "    if i%25 == 0:\n",
    "        print(f'Epoch: {i:3} loss: {single_loss.item():10.8f}')\n"
   ]
  },
  {
   "cell_type": "code",
   "execution_count": 40,
   "id": "d45dd5a6",
   "metadata": {},
   "outputs": [
    {
     "name": "stdout",
     "output_type": "stream",
     "text": [
      "Average Test Loss, MSE: 0.02744333\n"
     ]
    }
   ],
   "source": [
    "# Test the model\n",
    "test_losses = []\n",
    "with torch.no_grad():\n",
    "    for seq, labels in zip(X_test, y_test):\n",
    "        y_pred = model(seq)\n",
    "        test_loss = loss_function(y_pred, labels)\n",
    "        test_losses.append(test_loss.item())\n",
    "\n",
    "# MSE Mean Squared Error (MSE) after training the model         \n",
    "print(f'Average Test Loss, MSE: {np.mean(test_losses):10.8f}')\n"
   ]
  },
  {
   "cell_type": "code",
   "execution_count": 41,
   "id": "77809d86",
   "metadata": {},
   "outputs": [],
   "source": [
    "# Make predictions\n",
    "predictions = []\n",
    "with torch.no_grad():\n",
    "    for seq in X_test:\n",
    "        predictions.append(model(seq).item())\n"
   ]
  },
  {
   "cell_type": "code",
   "execution_count": 42,
   "id": "8c0b12b5",
   "metadata": {},
   "outputs": [],
   "source": [
    "# Inverse transform the predictions\n",
    "predicted_values = scaler.inverse_transform(np.array(predictions).reshape(-1, 1))"
   ]
  },
  {
   "cell_type": "code",
   "execution_count": 43,
   "id": "c59b26e8",
   "metadata": {
    "scrolled": false
   },
   "outputs": [
    {
     "data": {
      "image/png": "[encoded data removed]",
      "text/plain": [
       "<Figure size 1000x600 with 1 Axes>"
      ]
     },
     "metadata": {},
     "output_type": "display_data"
    }
   ],
   "source": [
    "# Plot the results\n",
    "import matplotlib.pyplot as plt\n",
    "\n",
    "plt.figure(figsize=(10, 6))\n",
    "plt.plot(range(len(data_array) - len(predicted_values), len(data_array)), data_array[-len(predicted_values):], label='Actual')\n",
    "plt.plot(range(len(data_array) - len(predicted_values), len(data_array)), predicted_values, label='Predicted')\n",
    "plt.xlabel('Time')\n",
    "plt.ylabel('Value of Merchandise Trade')\n",
    "plt.title('LSTM Prediction')\n",
    "plt.legend()\n",
    "plt.show()\n"
   ]
  },
  {
   "cell_type": "code",
   "execution_count": 44,
   "id": "4567fb0e",
   "metadata": {},
   "outputs": [
    {
     "name": "stdout",
     "output_type": "stream",
     "text": [
      "Epoch:   0 loss: 0.00081888\n",
      "Epoch:  25 loss: 0.00068600\n",
      "Epoch:  50 loss: 0.00082971\n",
      "Epoch:  75 loss: 0.00033071\n",
      "Epoch: 100 loss: 0.00052902\n",
      "Epoch: 125 loss: 0.00113498\n"
     ]
    }
   ],
   "source": [
    "import torch\n",
    "import torch.nn as nn\n",
    "import numpy as np\n",
    "\n",
    "# Define the GRU model\n",
    "class GRU(nn.Module):\n",
    "    def __init__(self, input_size=1, hidden_layer_size=100, output_size=1):\n",
    "        super().__init__()\n",
    "        self.hidden_layer_size = hidden_layer_size\n",
    "        self.gru = nn.GRU(input_size, hidden_layer_size)\n",
    "        self.linear = nn.Linear(hidden_layer_size, output_size)\n",
    "        self.hidden_cell = torch.zeros(1, 1, self.hidden_layer_size)\n",
    "\n",
    "    def forward(self, input_seq):\n",
    "        gru_out, self.hidden_cell = self.gru(input_seq.view(len(input_seq), 1, -1), self.hidden_cell)\n",
    "        predictions = self.linear(gru_out.view(len(input_seq), -1))\n",
    "        return predictions[-1]\n",
    "\n",
    "# Instantiate the model, define loss function and optimizer\n",
    "model_gru = GRU()\n",
    "loss_function = nn.MSELoss()\n",
    "optimizer = torch.optim.Adam(model_gru.parameters(), lr=0.001)\n",
    "\n",
    "# Train the model\n",
    "epochs = 150\n",
    "for i in range(epochs):\n",
    "    for seq, labels in zip(X_train, y_train):\n",
    "        optimizer.zero_grad()\n",
    "        model_gru.hidden_cell = torch.zeros(1, 1, model_gru.hidden_layer_size)\n",
    "\n",
    "        y_pred = model_gru(seq)\n",
    "\n",
    "        single_loss = loss_function(y_pred, labels)\n",
    "        single_loss.backward()\n",
    "        optimizer.step()\n",
    "\n",
    "    if i % 25 == 0:\n",
    "        print(f'Epoch: {i:3} loss: {single_loss.item():10.8f}')"
   ]
  },
  {
   "cell_type": "code",
   "execution_count": 45,
   "id": "ee387ace",
   "metadata": {},
   "outputs": [
    {
     "name": "stdout",
     "output_type": "stream",
     "text": [
      "Average Test Loss, MSE: 0.02763157\n"
     ]
    }
   ],
   "source": [
    "# Test the model\n",
    "test_losses_gru = []\n",
    "with torch.no_grad():\n",
    "    for seq, labels in zip(X_test, y_test):\n",
    "        y_pred = model_gru(seq)\n",
    "        test_loss = loss_function(y_pred, labels)\n",
    "        test_losses_gru.append(test_loss.item())\n",
    "\n",
    "# MSE Mean Squared Error (MSE) after training the model\n",
    "print(f'Average Test Loss, MSE: {np.mean(test_losses_gru):10.8f}')"
   ]
  },
  {
   "cell_type": "code",
   "execution_count": 46,
   "id": "32517697",
   "metadata": {},
   "outputs": [],
   "source": [
    "import matplotlib.pyplot as plt\n",
    "\n",
    "# Make predictions\n",
    "predicted_values_gru = []\n",
    "with torch.no_grad():\n",
    "    for seq in X_test:\n",
    "        y_pred = model_gru(seq)\n",
    "        predicted_values_gru.append(y_pred.item())"
   ]
  },
  {
   "cell_type": "code",
   "execution_count": 47,
   "id": "e2d104e3",
   "metadata": {},
   "outputs": [
    {
     "data": {
      "image/png": "[encoded data removed]",
      "text/plain": [
       "<Figure size 1000x600 with 1 Axes>"
      ]
     },
     "metadata": {},
     "output_type": "display_data"
    }
   ],
   "source": [
    "# Plot the results\n",
    "plt.figure(figsize=(10, 6))\n",
    "plt.plot(y_test, label=\"True values\")\n",
    "plt.plot(predicted_values_gru, label=\"Predicted values\")\n",
    "plt.title(\"GRU Model: True vs Predicted Values\")\n",
    "plt.xlabel(\"Time\")\n",
    "plt.ylabel(\"Value\")\n",
    "plt.legend()\n",
    "plt.show()"
   ]
  },
  {
   "cell_type": "code",
   "execution_count": 48,
   "id": "581eaace",
   "metadata": {},
   "outputs": [],
   "source": [
    "# Stop the SparkSession\n",
    "#spark.stop()"
   ]
  }
 ],
 "metadata": {
  "kernelspec": {
   "display_name": "Python 3 (ipykernel)",
   "language": "python",
   "name": "python3"
  },
  "language_info": {
   "codemirror_mode": {
    "name": "ipython",
    "version": 3
   },
   "file_extension": ".py",
   "mimetype": "text/x-python",
   "name": "python",
   "nbconvert_exporter": "python",
   "pygments_lexer": "ipython3",
   "version": "3.11.6"
  }
 },
 "nbformat": 4,
 "nbformat_minor": 5
}
